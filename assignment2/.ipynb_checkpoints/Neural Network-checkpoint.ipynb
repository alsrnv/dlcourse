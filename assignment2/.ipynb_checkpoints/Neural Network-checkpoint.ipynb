{
 "cells": [
  {
   "cell_type": "markdown",
   "metadata": {},
   "source": [
    "# Задание 2.1 - Нейронные сети\n",
    "\n",
    "В этом задании вы реализуете и натренируете настоящую нейроную сеть своими руками!\n",
    "\n",
    "В некотором смысле это будет расширением прошлого задания - нам нужно просто составить несколько линейных классификаторов вместе!\n",
    "\n",
    "<img src=\"https://i.redd.it/n9fgba8b0qr01.png\" alt=\"Stack_more_layers\" width=\"400px\"/>"
   ]
  },
  {
   "cell_type": "code",
   "execution_count": 1,
   "metadata": {},
   "outputs": [],
   "source": [
    "import numpy as np\n",
    "import matplotlib.pyplot as plt\n",
    "\n",
    "%matplotlib inline\n",
    "\n",
    "%load_ext autoreload\n",
    "%autoreload 2"
   ]
  },
  {
   "cell_type": "code",
   "execution_count": 2,
   "metadata": {},
   "outputs": [],
   "source": [
    "from dataset import load_svhn, random_split_train_val\n",
    "from gradient_check import check_layer_gradient, check_layer_param_gradient, check_model_gradient\n",
    "from layers import FullyConnectedLayer, ReLULayer\n",
    "from model import TwoLayerNet\n",
    "from trainer import Trainer, Dataset\n",
    "from optim import SGD, MomentumSGD\n",
    "from metrics import multiclass_accuracy"
   ]
  },
  {
   "cell_type": "markdown",
   "metadata": {},
   "source": [
    "# Загружаем данные\n",
    "\n",
    "И разделяем их на training и validation."
   ]
  },
  {
   "cell_type": "code",
   "execution_count": 3,
   "metadata": {},
   "outputs": [],
   "source": [
    "def prepare_for_neural_network(train_X, test_X):\n",
    "    train_flat = train_X.reshape(train_X.shape[0], -1).astype(np.float) / 255.0\n",
    "    test_flat = test_X.reshape(test_X.shape[0], -1).astype(np.float) / 255.0\n",
    "    \n",
    "    # Subtract mean\n",
    "    mean_image = np.mean(train_flat, axis = 0)\n",
    "    train_flat -= mean_image\n",
    "    test_flat -= mean_image\n",
    "    \n",
    "    return train_flat, test_flat\n",
    "    \n",
    "train_X, train_y, test_X, test_y = load_svhn(\"data\", max_train=10000, max_test=1000)    \n",
    "train_X, test_X = prepare_for_neural_network(train_X, test_X)\n",
    "# Split train into train and val\n",
    "train_X, train_y, val_X, val_y = random_split_train_val(train_X, train_y, num_val = 1000)"
   ]
  },
  {
   "cell_type": "markdown",
   "metadata": {},
   "source": [
    "# Как всегда, начинаем с кирпичиков\n",
    "\n",
    "Мы будем реализовывать необходимые нам слои по очереди. Каждый слой должен реализовать:\n",
    "- прямой проход (forward pass), который генерирует выход слоя по входу и запоминает необходимые данные\n",
    "- обратный проход (backward pass), который получает градиент по выходу слоя и вычисляет градиент по входу и по параметрам\n",
    "\n",
    "xНачнем с ReLU, у которого параметров нет."
   ]
  },
  {
   "cell_type": "code",
   "execution_count": 4,
   "metadata": {
    "scrolled": false
   },
   "outputs": [
    {
     "name": "stdout",
     "output_type": "stream",
     "text": [
      "Gradient check passed!\n"
     ]
    }
   ],
   "source": [
    "# TODO: Implement ReLULayer layer in layers.py\n",
    "# Note: you'll need to copy implementation of the gradient_check function from the previous assignment\n",
    "\n",
    "X = np.array([[1,-2,3],\n",
    "              [-1, 2, 0.1]\n",
    "              ])\n",
    "\n",
    "assert check_layer_gradient(ReLULayer(), X)"
   ]
  },
  {
   "cell_type": "markdown",
   "metadata": {},
   "source": [
    "А теперь реализуем полносвязный слой (fully connected layer), у которого будет два массива параметров: W (weights) и B (bias).\n",
    "\n",
    "Все параметры наши слои будут использовать для параметров специальный класс `Param`, в котором будут храниться значения параметров и градиенты этих параметров, вычисляемые во время обратного прохода.\n",
    "\n",
    "Это даст возможность аккумулировать (суммировать) градиенты из разных частей функции потерь, например, из cross-entropy loss и regularization loss."
   ]
  },
  {
   "cell_type": "code",
   "execution_count": 5,
   "metadata": {},
   "outputs": [
    {
     "name": "stdout",
     "output_type": "stream",
     "text": [
      "Gradient check passed!\n",
      "Gradient check passed!\n",
      "Gradient check passed!\n"
     ]
    }
   ],
   "source": [
    "# TODO: Implement FullyConnected layer forward and backward methods\n",
    "assert check_layer_gradient(FullyConnectedLayer(3, 4), X)\n",
    "# TODO: Implement storing gradients for W and B\n",
    "assert check_layer_param_gradient(FullyConnectedLayer(3, 4), X, 'W')\n",
    "assert check_layer_param_gradient(FullyConnectedLayer(3, 4), X, 'B')"
   ]
  },
  {
   "cell_type": "markdown",
   "metadata": {},
   "source": [
    "## Создаем нейронную сеть\n",
    "\n",
    "Теперь мы реализуем простейшую нейронную сеть с двумя полносвязным слоями и нелинейностью ReLU. Реализуйте функцию `compute_loss_and_gradients`, она должна запустить прямой и обратный проход через оба слоя для вычисления градиентов.\n",
    "\n",
    "Не забудьте реализовать очистку градиентов в начале функции."
   ]
  },
  {
   "cell_type": "code",
   "execution_count": 6,
   "metadata": {},
   "outputs": [
    {
     "name": "stdout",
     "output_type": "stream",
     "text": [
      "Checking gradient for 0_W\n",
      "Gradient check passed!\n",
      "Checking gradient for 0_B\n",
      "Gradient check passed!\n",
      "Checking gradient for 2_W\n",
      "Gradient check passed!\n",
      "Checking gradient for 2_B\n",
      "Gradient check passed!\n"
     ]
    },
    {
     "data": {
      "text/plain": [
       "True"
      ]
     },
     "execution_count": 6,
     "metadata": {},
     "output_type": "execute_result"
    }
   ],
   "source": [
    "# TODO: In model.py, implement compute_loss_and_gradients function\n",
    "model = TwoLayerNet(n_input = train_X.shape[1], n_output = 10, hidden_layer_size = 3, reg = 0)\n",
    "loss = model.compute_loss_and_gradients(train_X[:2], train_y[:2])\n",
    "\n",
    "# TODO Now implement backward pass and aggregate all of the params\n",
    "check_model_gradient(model, train_X[:2], train_y[:2])"
   ]
  },
  {
   "cell_type": "markdown",
   "metadata": {},
   "source": [
    "Теперь добавьте к модели регуляризацию - она должна прибавляться к loss и делать свой вклад в градиенты."
   ]
  },
  {
   "cell_type": "code",
   "execution_count": 7,
   "metadata": {},
   "outputs": [
    {
     "name": "stdout",
     "output_type": "stream",
     "text": [
      "Checking gradient for 0_W\n",
      "Gradient check passed!\n",
      "Checking gradient for 0_B\n",
      "Gradient check passed!\n",
      "Checking gradient for 2_W\n",
      "Gradient check passed!\n",
      "Checking gradient for 2_B\n",
      "Gradient check passed!\n"
     ]
    },
    {
     "data": {
      "text/plain": [
       "True"
      ]
     },
     "execution_count": 7,
     "metadata": {},
     "output_type": "execute_result"
    }
   ],
   "source": [
    "# TODO Now implement l2 regularization in the forward and backward pass\n",
    "model_with_reg = TwoLayerNet(n_input = train_X.shape[1], n_output = 10, hidden_layer_size = 3, reg = 1e1)\n",
    "loss_with_reg = model_with_reg.compute_loss_and_gradients(train_X[:2], train_y[:2])\n",
    "assert loss_with_reg > loss and not np.isclose(loss_with_reg, loss), \\\n",
    "    \"Loss with regularization (%2.4f) should be higher than without it (%2.4f)!\" % (loss, loss_with_reg)\n",
    "\n",
    "check_model_gradient(model_with_reg, train_X[:2], train_y[:2])"
   ]
  },
  {
   "cell_type": "markdown",
   "metadata": {},
   "source": [
    "Также реализуем функцию предсказания (вычисления значения) модели на новых данных.\n",
    "\n",
    "Какое значение точности мы ожидаем увидеть до начала тренировки?"
   ]
  },
  {
   "cell_type": "code",
   "execution_count": 8,
   "metadata": {},
   "outputs": [
    {
     "data": {
      "text/plain": [
       "0.1"
      ]
     },
     "execution_count": 8,
     "metadata": {},
     "output_type": "execute_result"
    }
   ],
   "source": [
    "# Finally, implement predict function!\n",
    "\n",
    "# TODO: Implement predict function\n",
    "# What would be the value we expect?\n",
    "multiclass_accuracy(model_with_reg.predict(train_X[:30]), train_y[:30]) "
   ]
  },
  {
   "cell_type": "markdown",
   "metadata": {},
   "source": [
    "# Допишем код для процесса тренировки"
   ]
  },
  {
   "cell_type": "code",
   "execution_count": 14,
   "metadata": {},
   "outputs": [
    {
     "name": "stdout",
     "output_type": "stream",
     "text": [
      "Loss: 2.439416, Train accuracy: 0.220444, val accuracy: 0.225000\n",
      "Loss: 1.654177, Train accuracy: 0.379444, val accuracy: 0.376000\n",
      "Loss: 1.352309, Train accuracy: 0.508111, val accuracy: 0.507000\n",
      "Loss: 1.289519, Train accuracy: 0.602111, val accuracy: 0.589000\n",
      "Loss: 1.452764, Train accuracy: 0.643111, val accuracy: 0.640000\n",
      "Loss: 0.922739, Train accuracy: 0.665444, val accuracy: 0.665000\n",
      "Loss: 0.878342, Train accuracy: 0.698556, val accuracy: 0.686000\n",
      "Loss: 0.830761, Train accuracy: 0.709444, val accuracy: 0.703000\n",
      "Loss: 1.132140, Train accuracy: 0.720889, val accuracy: 0.696000\n",
      "Loss: 1.208072, Train accuracy: 0.726000, val accuracy: 0.704000\n",
      "Loss: 0.786755, Train accuracy: 0.735778, val accuracy: 0.710000\n",
      "Loss: 1.861145, Train accuracy: 0.746000, val accuracy: 0.709000\n",
      "Loss: 0.955479, Train accuracy: 0.747778, val accuracy: 0.713000\n",
      "Loss: 1.258526, Train accuracy: 0.750222, val accuracy: 0.722000\n",
      "Loss: 1.251263, Train accuracy: 0.754778, val accuracy: 0.728000\n",
      "Loss: 1.103997, Train accuracy: 0.756889, val accuracy: 0.722000\n",
      "Loss: 0.916090, Train accuracy: 0.758444, val accuracy: 0.724000\n",
      "Loss: 1.091032, Train accuracy: 0.761000, val accuracy: 0.720000\n",
      "Loss: 1.396138, Train accuracy: 0.763222, val accuracy: 0.721000\n",
      "Loss: 1.304704, Train accuracy: 0.762778, val accuracy: 0.727000\n"
     ]
    }
   ],
   "source": [
    "model = TwoLayerNet(n_input = train_X.shape[1], n_output = 10, hidden_layer_size = 100, reg = 0.001)\n",
    "dataset = Dataset(train_X, train_y, val_X, val_y)\n",
    "trainer = Trainer(model, dataset, SGD(), learning_rate=1e-1)\n",
    "\n",
    "# TODO Implement missing pieces in Trainer.fit function\n",
    "# You should expect loss to go down and train and val accuracy go up for every epoch\n",
    "loss_history, train_history, val_history = trainer.fit()"
   ]
  },
  {
   "cell_type": "code",
   "execution_count": 16,
   "metadata": {},
   "outputs": [
    {
     "data": {
      "text/plain": [
       "[<matplotlib.lines.Line2D at 0xb3790f3c8>]"
      ]
     },
     "execution_count": 16,
     "metadata": {},
     "output_type": "execute_result"
    },
    {
     "data": {
      "image/png": "[encoded data removed]",
      "text/plain": [
       "<Figure size 432x288 with 1 Axes>"
      ]
     },
     "metadata": {
      "needs_background": "light"
     },
     "output_type": "display_data"
    }
   ],
   "source": [
    "plt.plot(train_history)\n",
    "plt.plot(val_history)"
   ]
  },
  {
   "cell_type": "markdown",
   "metadata": {},
   "source": [
    "# Улучшаем процесс тренировки\n",
    "\n",
    "Мы реализуем несколько ключевых оптимизаций, необходимых для тренировки современных нейросетей."
   ]
  },
  {
   "cell_type": "markdown",
   "metadata": {},
   "source": [
    "## Уменьшение скорости обучения (learning rate decay)\n",
    "\n",
    "Одна из необходимых оптимизаций во время тренировки нейронных сетей - постепенное уменьшение скорости обучения по мере тренировки.\n",
    "\n",
    "Один из стандартных методов - уменьшение скорости обучения (learning rate) каждые N эпох на коэффициент d (часто называемый decay). Значения N и d, как всегда, являются гиперпараметрами и должны подбираться на основе эффективности на проверочных данных (validation data). \n",
    "\n",
    "В нашем случае N будет равным 1."
   ]
  },
  {
   "cell_type": "code",
   "execution_count": 19,
   "metadata": {},
   "outputs": [
    {
     "name": "stdout",
     "output_type": "stream",
     "text": [
      "Loss: 2.187413, Train accuracy: 0.239556, val accuracy: 0.249000\n",
      "Loss: 1.708399, Train accuracy: 0.399444, val accuracy: 0.414000\n",
      "Loss: 1.547660, Train accuracy: 0.518333, val accuracy: 0.518000\n",
      "Loss: 1.442408, Train accuracy: 0.596667, val accuracy: 0.601000\n",
      "Loss: 1.447891, Train accuracy: 0.654222, val accuracy: 0.647000\n",
      "Loss: 1.192382, Train accuracy: 0.680778, val accuracy: 0.654000\n",
      "Loss: 1.094551, Train accuracy: 0.703111, val accuracy: 0.685000\n",
      "Loss: 1.341693, Train accuracy: 0.736000, val accuracy: 0.706000\n",
      "Loss: 1.145127, Train accuracy: 0.718444, val accuracy: 0.678000\n",
      "Loss: 0.949251, Train accuracy: 0.726333, val accuracy: 0.670000\n",
      "Loss: 1.066791, Train accuracy: 0.738000, val accuracy: 0.703000\n",
      "Loss: 1.056683, Train accuracy: 0.716222, val accuracy: 0.676000\n",
      "Loss: 1.171560, Train accuracy: 0.760111, val accuracy: 0.705000\n",
      "Loss: 0.965561, Train accuracy: 0.770444, val accuracy: 0.713000\n",
      "Loss: 0.796746, Train accuracy: 0.780556, val accuracy: 0.706000\n",
      "Loss: 1.166371, Train accuracy: 0.780556, val accuracy: 0.704000\n",
      "Loss: 1.012143, Train accuracy: 0.781556, val accuracy: 0.708000\n",
      "Loss: 1.106457, Train accuracy: 0.794667, val accuracy: 0.734000\n",
      "Loss: 1.061062, Train accuracy: 0.779111, val accuracy: 0.706000\n",
      "Loss: 0.777060, Train accuracy: 0.829667, val accuracy: 0.739000\n"
     ]
    }
   ],
   "source": [
    "# TODO Implement learning rate decay inside Trainer.fit method\n",
    "# Decay should happen once per epoch\n",
    "\n",
    "model = TwoLayerNet(n_input = train_X.shape[1], n_output = 10, hidden_layer_size = 100, reg = 0.001)\n",
    "dataset = Dataset(train_X, train_y, val_X, val_y)\n",
    "trainer = Trainer(model, dataset, SGD(), learning_rate=1e-1, learning_rate_decay=1.01)\n",
    "\n",
    "initial_learning_rate = trainer.learning_rate\n",
    "loss_history, train_history, val_history = trainer.fit()\n",
    "\n",
    "assert trainer.learning_rate < initial_learning_rate, \"Learning rate should've been reduced\"\n",
    "assert trainer.learning_rate > 0.5*initial_learning_rate, \"Learning rate shouldn'tve been reduced that much!\""
   ]
  },
  {
   "cell_type": "markdown",
   "metadata": {},
   "source": [
    "# Накопление импульса (Momentum SGD)\n",
    "\n",
    "Другой большой класс оптимизаций - использование более эффективных методов градиентного спуска. Мы реализуем один из них - накопление импульса (Momentum SGD).\n",
    "\n",
    "Этот метод хранит скорость движения, использует градиент для ее изменения на каждом шаге, и изменяет веса пропорционально значению скорости.\n",
    "(Физическая аналогия: Вместо скорости градиенты теперь будут задавать ускорение, но будет присутствовать сила трения.)\n",
    "\n",
    "```\n",
    "velocity = momentum * velocity - learning_rate * gradient \n",
    "w = w + velocity\n",
    "```\n",
    "\n",
    "`momentum` здесь коэффициент затухания, который тоже является гиперпараметром (к счастью, для него часто есть хорошее значение по умолчанию, типичный диапазон -- 0.8-0.99).\n",
    "\n",
    "Несколько полезных ссылок, где метод разбирается более подробно:  \n",
    "http://cs231n.github.io/neural-networks-3/#sgd  \n",
    "https://distill.pub/2017/momentum/"
   ]
  },
  {
   "cell_type": "code",
   "execution_count": 24,
   "metadata": {},
   "outputs": [
    {
     "name": "stdout",
     "output_type": "stream",
     "text": [
      "Loss: 2.293459, Train accuracy: 0.196667, val accuracy: 0.206000\n",
      "Loss: 2.296105, Train accuracy: 0.196667, val accuracy: 0.206000\n",
      "Loss: 2.166369, Train accuracy: 0.196667, val accuracy: 0.206000\n",
      "Loss: 2.328103, Train accuracy: 0.196667, val accuracy: 0.206000\n",
      "Loss: 2.123039, Train accuracy: 0.196667, val accuracy: 0.206000\n",
      "Loss: 2.226753, Train accuracy: 0.196667, val accuracy: 0.206000\n",
      "Loss: 2.222705, Train accuracy: 0.196667, val accuracy: 0.206000\n",
      "Loss: 2.045837, Train accuracy: 0.196667, val accuracy: 0.206000\n",
      "Loss: 2.223704, Train accuracy: 0.196667, val accuracy: 0.206000\n",
      "Loss: 2.198530, Train accuracy: 0.215333, val accuracy: 0.220000\n",
      "Loss: 2.118142, Train accuracy: 0.239556, val accuracy: 0.242000\n",
      "Loss: 1.873386, Train accuracy: 0.248111, val accuracy: 0.246000\n",
      "Loss: 1.797424, Train accuracy: 0.270444, val accuracy: 0.267000\n",
      "Loss: 2.217965, Train accuracy: 0.285556, val accuracy: 0.290000\n",
      "Loss: 1.810511, Train accuracy: 0.309000, val accuracy: 0.321000\n",
      "Loss: 2.058998, Train accuracy: 0.346111, val accuracy: 0.359000\n",
      "Loss: 1.682443, Train accuracy: 0.375222, val accuracy: 0.378000\n",
      "Loss: 1.987874, Train accuracy: 0.396111, val accuracy: 0.392000\n",
      "Loss: 1.774284, Train accuracy: 0.417000, val accuracy: 0.411000\n",
      "Loss: 1.688832, Train accuracy: 0.440889, val accuracy: 0.432000\n"
     ]
    }
   ],
   "source": [
    "# TODO: Implement MomentumSGD.update function in optim.py\n",
    "\n",
    "model = TwoLayerNet(n_input = train_X.shape[1], n_output = 10, hidden_layer_size = 100, reg = 0.001)\n",
    "dataset = Dataset(train_X, train_y, val_X, val_y)\n",
    "trainer = Trainer(model, dataset, MomentumSGD(), learning_rate=1e-3, learning_rate_decay=1.01)\n",
    "\n",
    "# You should see even better results than before!\n",
    "loss_history, train_history, val_history = trainer.fit()"
   ]
  },
  {
   "cell_type": "code",
   "execution_count": 25,
   "metadata": {},
   "outputs": [
    {
     "data": {
      "text/plain": [
       "[<matplotlib.lines.Line2D at 0xb37b42b38>]"
      ]
     },
     "execution_count": 25,
     "metadata": {},
     "output_type": "execute_result"
    },
    {
     "data": {
      "image/png": "[encoded data removed]",
      "text/plain": [
       "<Figure size 432x288 with 1 Axes>"
      ]
     },
     "metadata": {
      "needs_background": "light"
     },
     "output_type": "display_data"
    }
   ],
   "source": [
    "plt.plot(train_history)\n",
    "plt.plot(val_history)"
   ]
  },
  {
   "cell_type": "markdown",
   "metadata": {},
   "source": [
    "# Ну что, давайте уже тренировать сеть!"
   ]
  },
  {
   "cell_type": "markdown",
   "metadata": {},
   "source": [
    "## Последний тест - переобучимся (overfit) на маленьком наборе данных\n",
    "\n",
    "Хороший способ проверить, все ли реализовано корректно - переобучить сеть на маленьком наборе данных.  \n",
    "Наша модель обладает достаточной мощностью, чтобы приблизить маленький набор данных идеально, поэтому мы ожидаем, что на нем мы быстро дойдем до 100% точности на тренировочном наборе. \n",
    "\n",
    "Если этого не происходит, то где-то была допущена ошибка!"
   ]
  },
  {
   "cell_type": "code",
   "execution_count": 34,
   "metadata": {},
   "outputs": [
    {
     "name": "stdout",
     "output_type": "stream",
     "text": [
      "Loss: 2.309990, Train accuracy: 0.200000, val accuracy: 0.133333\n",
      "Loss: 2.296794, Train accuracy: 0.333333, val accuracy: 0.066667\n",
      "Loss: 2.264246, Train accuracy: 0.333333, val accuracy: 0.066667\n",
      "Loss: 2.277083, Train accuracy: 0.266667, val accuracy: 0.000000\n",
      "Loss: 2.309297, Train accuracy: 0.266667, val accuracy: 0.000000\n",
      "Loss: 2.243335, Train accuracy: 0.266667, val accuracy: 0.000000\n",
      "Loss: 2.271499, Train accuracy: 0.266667, val accuracy: 0.000000\n",
      "Loss: 2.168102, Train accuracy: 0.400000, val accuracy: 0.000000\n",
      "Loss: 2.138105, Train accuracy: 0.400000, val accuracy: 0.000000\n",
      "Loss: 1.842981, Train accuracy: 0.400000, val accuracy: 0.000000\n",
      "Loss: 1.719922, Train accuracy: 0.400000, val accuracy: 0.000000\n",
      "Loss: 1.991685, Train accuracy: 0.400000, val accuracy: 0.000000\n",
      "Loss: 1.848901, Train accuracy: 0.333333, val accuracy: 0.000000\n",
      "Loss: 1.377321, Train accuracy: 0.400000, val accuracy: 0.000000\n",
      "Loss: 2.427280, Train accuracy: 0.400000, val accuracy: 0.000000\n",
      "Loss: 1.854668, Train accuracy: 0.400000, val accuracy: 0.000000\n",
      "Loss: 1.230779, Train accuracy: 0.466667, val accuracy: 0.000000\n",
      "Loss: 1.717983, Train accuracy: 0.466667, val accuracy: 0.066667\n",
      "Loss: 1.257881, Train accuracy: 0.400000, val accuracy: 0.000000\n",
      "Loss: 1.351619, Train accuracy: 0.466667, val accuracy: 0.000000\n",
      "Loss: 1.487940, Train accuracy: 0.466667, val accuracy: 0.000000\n",
      "Loss: 1.043919, Train accuracy: 0.466667, val accuracy: 0.066667\n",
      "Loss: 1.461229, Train accuracy: 0.533333, val accuracy: 0.066667\n",
      "Loss: 1.484682, Train accuracy: 0.533333, val accuracy: 0.066667\n",
      "Loss: 1.130952, Train accuracy: 0.600000, val accuracy: 0.066667\n",
      "Loss: 1.836608, Train accuracy: 0.600000, val accuracy: 0.066667\n",
      "Loss: 1.220323, Train accuracy: 0.533333, val accuracy: 0.066667\n",
      "Loss: 1.229603, Train accuracy: 0.600000, val accuracy: 0.066667\n",
      "Loss: 1.557824, Train accuracy: 0.733333, val accuracy: 0.066667\n",
      "Loss: 1.004873, Train accuracy: 0.733333, val accuracy: 0.066667\n",
      "Loss: 1.045435, Train accuracy: 0.733333, val accuracy: 0.066667\n",
      "Loss: 1.248700, Train accuracy: 0.733333, val accuracy: 0.066667\n",
      "Loss: 1.356185, Train accuracy: 0.800000, val accuracy: 0.066667\n",
      "Loss: 1.393856, Train accuracy: 0.800000, val accuracy: 0.066667\n",
      "Loss: 0.733663, Train accuracy: 0.733333, val accuracy: 0.066667\n",
      "Loss: 1.002505, Train accuracy: 0.800000, val accuracy: 0.066667\n",
      "Loss: 1.132034, Train accuracy: 0.800000, val accuracy: 0.133333\n",
      "Loss: 0.943491, Train accuracy: 0.800000, val accuracy: 0.066667\n",
      "Loss: 0.587744, Train accuracy: 0.800000, val accuracy: 0.066667\n",
      "Loss: 0.740645, Train accuracy: 0.800000, val accuracy: 0.066667\n",
      "Loss: 0.210555, Train accuracy: 0.800000, val accuracy: 0.066667\n",
      "Loss: 0.448543, Train accuracy: 0.800000, val accuracy: 0.066667\n",
      "Loss: 0.477496, Train accuracy: 0.800000, val accuracy: 0.066667\n",
      "Loss: 0.436469, Train accuracy: 0.800000, val accuracy: 0.066667\n",
      "Loss: 0.954588, Train accuracy: 0.866667, val accuracy: 0.066667\n",
      "Loss: 0.489195, Train accuracy: 0.933333, val accuracy: 0.066667\n",
      "Loss: 0.676516, Train accuracy: 1.000000, val accuracy: 0.066667\n",
      "Loss: 0.455271, Train accuracy: 1.000000, val accuracy: 0.066667\n",
      "Loss: 0.495826, Train accuracy: 1.000000, val accuracy: 0.066667\n",
      "Loss: 0.783071, Train accuracy: 1.000000, val accuracy: 0.066667\n",
      "Loss: 0.227466, Train accuracy: 1.000000, val accuracy: 0.066667\n",
      "Loss: 0.593273, Train accuracy: 1.000000, val accuracy: 0.066667\n",
      "Loss: 0.229777, Train accuracy: 1.000000, val accuracy: 0.066667\n",
      "Loss: 0.555455, Train accuracy: 1.000000, val accuracy: 0.066667\n",
      "Loss: 0.393462, Train accuracy: 1.000000, val accuracy: 0.000000\n",
      "Loss: 0.504726, Train accuracy: 1.000000, val accuracy: 0.000000\n",
      "Loss: 0.382644, Train accuracy: 1.000000, val accuracy: 0.000000\n",
      "Loss: 0.490168, Train accuracy: 1.000000, val accuracy: 0.000000\n",
      "Loss: 0.287043, Train accuracy: 1.000000, val accuracy: 0.000000\n",
      "Loss: 0.421920, Train accuracy: 1.000000, val accuracy: 0.000000\n",
      "Loss: 0.360735, Train accuracy: 1.000000, val accuracy: 0.000000\n",
      "Loss: 0.296184, Train accuracy: 1.000000, val accuracy: 0.000000\n",
      "Loss: 0.277644, Train accuracy: 1.000000, val accuracy: 0.000000\n",
      "Loss: 0.346028, Train accuracy: 1.000000, val accuracy: 0.000000\n",
      "Loss: 0.310155, Train accuracy: 1.000000, val accuracy: 0.000000\n",
      "Loss: 0.320517, Train accuracy: 1.000000, val accuracy: 0.000000\n",
      "Loss: 0.320181, Train accuracy: 1.000000, val accuracy: 0.000000\n",
      "Loss: 0.243079, Train accuracy: 1.000000, val accuracy: 0.000000\n",
      "Loss: 0.229374, Train accuracy: 1.000000, val accuracy: 0.000000\n",
      "Loss: 0.233405, Train accuracy: 1.000000, val accuracy: 0.000000\n",
      "Loss: 0.242446, Train accuracy: 1.000000, val accuracy: 0.000000\n",
      "Loss: 0.234126, Train accuracy: 1.000000, val accuracy: 0.000000\n",
      "Loss: 0.301021, Train accuracy: 1.000000, val accuracy: 0.000000\n",
      "Loss: 0.292208, Train accuracy: 1.000000, val accuracy: 0.000000\n",
      "Loss: 0.223589, Train accuracy: 1.000000, val accuracy: 0.000000\n",
      "Loss: 0.209456, Train accuracy: 1.000000, val accuracy: 0.000000\n",
      "Loss: 0.252687, Train accuracy: 1.000000, val accuracy: 0.000000\n",
      "Loss: 0.234370, Train accuracy: 1.000000, val accuracy: 0.000000\n",
      "Loss: 0.249795, Train accuracy: 1.000000, val accuracy: 0.000000\n",
      "Loss: 0.261445, Train accuracy: 1.000000, val accuracy: 0.000000\n",
      "Loss: 0.233362, Train accuracy: 1.000000, val accuracy: 0.000000\n",
      "Loss: 0.280211, Train accuracy: 1.000000, val accuracy: 0.000000\n",
      "Loss: 0.214484, Train accuracy: 1.000000, val accuracy: 0.000000\n",
      "Loss: 0.236244, Train accuracy: 1.000000, val accuracy: 0.000000\n",
      "Loss: 0.226549, Train accuracy: 1.000000, val accuracy: 0.000000\n",
      "Loss: 0.219358, Train accuracy: 1.000000, val accuracy: 0.000000\n",
      "Loss: 0.230363, Train accuracy: 1.000000, val accuracy: 0.000000\n",
      "Loss: 0.266502, Train accuracy: 1.000000, val accuracy: 0.000000\n",
      "Loss: 0.231758, Train accuracy: 1.000000, val accuracy: 0.000000\n",
      "Loss: 0.226490, Train accuracy: 1.000000, val accuracy: 0.000000\n",
      "Loss: 0.213933, Train accuracy: 1.000000, val accuracy: 0.000000\n",
      "Loss: 0.223937, Train accuracy: 1.000000, val accuracy: 0.000000\n",
      "Loss: 0.230596, Train accuracy: 1.000000, val accuracy: 0.000000\n",
      "Loss: 0.219860, Train accuracy: 1.000000, val accuracy: 0.000000\n",
      "Loss: 0.214089, Train accuracy: 1.000000, val accuracy: 0.000000\n",
      "Loss: 0.224719, Train accuracy: 1.000000, val accuracy: 0.000000\n",
      "Loss: 0.225565, Train accuracy: 1.000000, val accuracy: 0.000000\n",
      "Loss: 0.247133, Train accuracy: 1.000000, val accuracy: 0.000000\n",
      "Loss: 0.236621, Train accuracy: 1.000000, val accuracy: 0.000000\n",
      "Loss: 0.215230, Train accuracy: 1.000000, val accuracy: 0.000000\n",
      "Loss: 0.250951, Train accuracy: 1.000000, val accuracy: 0.000000\n",
      "Loss: 0.229506, Train accuracy: 1.000000, val accuracy: 0.000000\n",
      "Loss: 0.248258, Train accuracy: 1.000000, val accuracy: 0.000000\n",
      "Loss: 0.260290, Train accuracy: 1.000000, val accuracy: 0.000000\n",
      "Loss: 0.217929, Train accuracy: 1.000000, val accuracy: 0.000000\n",
      "Loss: 0.220970, Train accuracy: 1.000000, val accuracy: 0.000000\n",
      "Loss: 0.228812, Train accuracy: 1.000000, val accuracy: 0.000000\n",
      "Loss: 0.238852, Train accuracy: 1.000000, val accuracy: 0.000000\n",
      "Loss: 0.215998, Train accuracy: 1.000000, val accuracy: 0.000000\n",
      "Loss: 0.208079, Train accuracy: 1.000000, val accuracy: 0.000000\n",
      "Loss: 0.228202, Train accuracy: 1.000000, val accuracy: 0.000000\n",
      "Loss: 0.234689, Train accuracy: 1.000000, val accuracy: 0.000000\n",
      "Loss: 0.215771, Train accuracy: 1.000000, val accuracy: 0.000000\n",
      "Loss: 0.208862, Train accuracy: 1.000000, val accuracy: 0.000000\n",
      "Loss: 0.208026, Train accuracy: 1.000000, val accuracy: 0.000000\n",
      "Loss: 0.213689, Train accuracy: 1.000000, val accuracy: 0.000000\n",
      "Loss: 0.237311, Train accuracy: 1.000000, val accuracy: 0.000000\n",
      "Loss: 0.225287, Train accuracy: 1.000000, val accuracy: 0.000000\n",
      "Loss: 0.217263, Train accuracy: 1.000000, val accuracy: 0.000000\n",
      "Loss: 0.203659, Train accuracy: 1.000000, val accuracy: 0.000000\n",
      "Loss: 0.218815, Train accuracy: 1.000000, val accuracy: 0.000000\n",
      "Loss: 0.214120, Train accuracy: 1.000000, val accuracy: 0.000000\n",
      "Loss: 0.231199, Train accuracy: 1.000000, val accuracy: 0.000000\n",
      "Loss: 0.216909, Train accuracy: 1.000000, val accuracy: 0.000000\n",
      "Loss: 0.228385, Train accuracy: 1.000000, val accuracy: 0.000000\n",
      "Loss: 0.217423, Train accuracy: 1.000000, val accuracy: 0.000000\n",
      "Loss: 0.222998, Train accuracy: 1.000000, val accuracy: 0.000000\n",
      "Loss: 0.211145, Train accuracy: 1.000000, val accuracy: 0.000000\n"
     ]
    },
    {
     "name": "stdout",
     "output_type": "stream",
     "text": [
      "Loss: 0.211716, Train accuracy: 1.000000, val accuracy: 0.000000\n",
      "Loss: 0.224172, Train accuracy: 1.000000, val accuracy: 0.000000\n",
      "Loss: 0.204726, Train accuracy: 1.000000, val accuracy: 0.000000\n",
      "Loss: 0.230726, Train accuracy: 1.000000, val accuracy: 0.000000\n",
      "Loss: 0.223799, Train accuracy: 1.000000, val accuracy: 0.000000\n",
      "Loss: 0.222372, Train accuracy: 1.000000, val accuracy: 0.000000\n",
      "Loss: 0.209307, Train accuracy: 1.000000, val accuracy: 0.000000\n",
      "Loss: 0.221244, Train accuracy: 1.000000, val accuracy: 0.000000\n",
      "Loss: 0.204362, Train accuracy: 1.000000, val accuracy: 0.000000\n",
      "Loss: 0.205449, Train accuracy: 1.000000, val accuracy: 0.000000\n",
      "Loss: 0.204481, Train accuracy: 1.000000, val accuracy: 0.000000\n",
      "Loss: 0.201516, Train accuracy: 1.000000, val accuracy: 0.000000\n",
      "Loss: 0.225299, Train accuracy: 1.000000, val accuracy: 0.000000\n",
      "Loss: 0.216120, Train accuracy: 1.000000, val accuracy: 0.000000\n",
      "Loss: 0.212396, Train accuracy: 1.000000, val accuracy: 0.000000\n",
      "Loss: 0.226707, Train accuracy: 1.000000, val accuracy: 0.000000\n",
      "Loss: 0.205622, Train accuracy: 1.000000, val accuracy: 0.000000\n",
      "Loss: 0.215424, Train accuracy: 1.000000, val accuracy: 0.000000\n",
      "Loss: 0.236564, Train accuracy: 1.000000, val accuracy: 0.000000\n",
      "Loss: 0.198957, Train accuracy: 1.000000, val accuracy: 0.000000\n",
      "Loss: 0.224100, Train accuracy: 1.000000, val accuracy: 0.000000\n",
      "Loss: 0.213602, Train accuracy: 1.000000, val accuracy: 0.000000\n"
     ]
    }
   ],
   "source": [
    "data_size = 15\n",
    "model = TwoLayerNet(n_input = train_X.shape[1], n_output = 10, hidden_layer_size = 100, reg = 1e-2)\n",
    "dataset = Dataset(train_X[:data_size], train_y[:data_size], val_X[:data_size], val_y[:data_size])\n",
    "trainer = Trainer(model, dataset, SGD(), learning_rate=1e-1, num_epochs=150, batch_size=5)\n",
    "\n",
    "# You should expect this to reach 1.0 training accuracy \n",
    "loss_history, train_history, val_history = trainer.fit()"
   ]
  },
  {
   "cell_type": "markdown",
   "metadata": {},
   "source": [
    "Теперь найдем гипепараметры, для которых этот процесс сходится быстрее.\n",
    "Если все реализовано корректно, то существуют параметры, при которых процесс сходится в **20** эпох или еще быстрее.\n",
    "Найдите их!"
   ]
  },
  {
   "cell_type": "code",
   "execution_count": 57,
   "metadata": {},
   "outputs": [
    {
     "name": "stdout",
     "output_type": "stream",
     "text": [
      "Loss: 2.306981, Train accuracy: 0.200000, val accuracy: 0.133333\n",
      "Loss: 2.330823, Train accuracy: 0.333333, val accuracy: 0.066667\n",
      "Loss: 2.271189, Train accuracy: 0.200000, val accuracy: 0.133333\n",
      "Loss: 2.284881, Train accuracy: 0.400000, val accuracy: 0.000000\n",
      "Loss: 1.713489, Train accuracy: 0.333333, val accuracy: 0.000000\n",
      "Loss: 2.021877, Train accuracy: 0.333333, val accuracy: 0.066667\n",
      "Loss: 1.856845, Train accuracy: 0.266667, val accuracy: 0.066667\n",
      "Loss: 1.980308, Train accuracy: 0.400000, val accuracy: 0.066667\n",
      "Loss: 1.976905, Train accuracy: 0.466667, val accuracy: 0.000000\n",
      "Loss: 1.086546, Train accuracy: 0.466667, val accuracy: 0.000000\n",
      "Loss: 1.702553, Train accuracy: 0.466667, val accuracy: 0.066667\n",
      "Loss: 1.361301, Train accuracy: 0.666667, val accuracy: 0.000000\n",
      "Loss: 1.891964, Train accuracy: 0.533333, val accuracy: 0.000000\n",
      "Loss: 0.771567, Train accuracy: 0.600000, val accuracy: 0.000000\n",
      "Loss: 1.492980, Train accuracy: 0.733333, val accuracy: 0.000000\n",
      "Loss: 0.982198, Train accuracy: 0.800000, val accuracy: 0.000000\n",
      "Loss: 0.662937, Train accuracy: 0.800000, val accuracy: 0.000000\n",
      "Loss: 0.523815, Train accuracy: 0.866667, val accuracy: 0.000000\n",
      "Loss: 0.599217, Train accuracy: 0.933333, val accuracy: 0.000000\n",
      "Loss: 0.368307, Train accuracy: 1.000000, val accuracy: 0.000000\n"
     ]
    }
   ],
   "source": [
    "# Now, tweak some hyper parameters and make it train to 1.0 accuracy in 20 epochs or less\n",
    "\n",
    "model = TwoLayerNet(n_input = train_X.shape[1], n_output = 10, hidden_layer_size = 100, reg = 0.01)\n",
    "dataset = Dataset(train_X[:data_size], train_y[:data_size], val_X[:data_size], val_y[:data_size])\n",
    "# TODO: Change any hyperparamers or optimizators to reach training accuracy in 20 epochs\n",
    "trainer = Trainer(model, dataset, SGD(), learning_rate=0.29, learning_rate_decay=0.99, num_epochs=20, batch_size=5)\n",
    "\n",
    "loss_history, train_history, val_history = trainer.fit()"
   ]
  },
  {
   "cell_type": "markdown",
   "metadata": {},
   "source": [
    "# Итак, основное мероприятие!\n",
    "\n",
    "Натренируйте лучшую нейросеть! Можно добавлять и изменять параметры, менять количество нейронов в слоях сети и как угодно экспериментировать. \n",
    "\n",
    "Добейтесь точности лучше **40%** на validation set."
   ]
  },
  {
   "cell_type": "code",
   "execution_count": 62,
   "metadata": {
    "scrolled": true
   },
   "outputs": [
    {
     "name": "stdout",
     "output_type": "stream",
     "text": [
      "Loss: 2.090681, Train accuracy: 0.343333, val accuracy: 0.359000\n",
      "Loss: 1.886575, Train accuracy: 0.524333, val accuracy: 0.510000\n",
      "Loss: 1.667520, Train accuracy: 0.539111, val accuracy: 0.517000\n",
      "Loss: 2.435550, Train accuracy: 0.553667, val accuracy: 0.528000\n",
      "Loss: 1.991680, Train accuracy: 0.612778, val accuracy: 0.581000\n",
      "Loss: 1.341244, Train accuracy: 0.618667, val accuracy: 0.579000\n",
      "Loss: 1.860906, Train accuracy: 0.633111, val accuracy: 0.587000\n",
      "Loss: 1.608949, Train accuracy: 0.659556, val accuracy: 0.624000\n",
      "Loss: 1.922734, Train accuracy: 0.577444, val accuracy: 0.566000\n",
      "Loss: 1.206079, Train accuracy: 0.612222, val accuracy: 0.574000\n",
      "Loss: 2.103257, Train accuracy: 0.608222, val accuracy: 0.586000\n",
      "Loss: 1.859024, Train accuracy: 0.677000, val accuracy: 0.627000\n",
      "Loss: 1.899210, Train accuracy: 0.564000, val accuracy: 0.557000\n",
      "Loss: 2.183896, Train accuracy: 0.626111, val accuracy: 0.604000\n",
      "Loss: 1.551551, Train accuracy: 0.666222, val accuracy: 0.639000\n",
      "Loss: 1.783032, Train accuracy: 0.649778, val accuracy: 0.625000\n",
      "Loss: 1.912474, Train accuracy: 0.614667, val accuracy: 0.602000\n",
      "Loss: 1.607006, Train accuracy: 0.642222, val accuracy: 0.604000\n",
      "Loss: 1.919286, Train accuracy: 0.595667, val accuracy: 0.563000\n",
      "Loss: 1.544748, Train accuracy: 0.575000, val accuracy: 0.567000\n",
      "Loss: 1.641920, Train accuracy: 0.658778, val accuracy: 0.604000\n",
      "Loss: 1.929687, Train accuracy: 0.688444, val accuracy: 0.656000\n",
      "Loss: 2.277305, Train accuracy: 0.655333, val accuracy: 0.634000\n",
      "Loss: 2.120519, Train accuracy: 0.591444, val accuracy: 0.577000\n",
      "Loss: 1.648526, Train accuracy: 0.667778, val accuracy: 0.619000\n",
      "Loss: 1.891877, Train accuracy: 0.652889, val accuracy: 0.625000\n",
      "Loss: 1.816425, Train accuracy: 0.665889, val accuracy: 0.636000\n",
      "Loss: 1.617217, Train accuracy: 0.649333, val accuracy: 0.629000\n",
      "Loss: 1.546271, Train accuracy: 0.678889, val accuracy: 0.629000\n",
      "Loss: 1.712749, Train accuracy: 0.680667, val accuracy: 0.651000\n",
      "Loss: 2.396575, Train accuracy: 0.650778, val accuracy: 0.620000\n",
      "Loss: 1.457468, Train accuracy: 0.657333, val accuracy: 0.642000\n",
      "Loss: 1.830301, Train accuracy: 0.607889, val accuracy: 0.576000\n",
      "Loss: 1.742501, Train accuracy: 0.607333, val accuracy: 0.570000\n",
      "Loss: 1.648769, Train accuracy: 0.625556, val accuracy: 0.627000\n",
      "Loss: 1.465310, Train accuracy: 0.593444, val accuracy: 0.573000\n",
      "Loss: 1.078098, Train accuracy: 0.656889, val accuracy: 0.628000\n",
      "Loss: 1.743682, Train accuracy: 0.645556, val accuracy: 0.628000\n",
      "Loss: 1.169983, Train accuracy: 0.651778, val accuracy: 0.604000\n",
      "Loss: 1.842686, Train accuracy: 0.637111, val accuracy: 0.604000\n",
      "Loss: 1.540443, Train accuracy: 0.662111, val accuracy: 0.627000\n",
      "Loss: 1.539782, Train accuracy: 0.629889, val accuracy: 0.587000\n",
      "Loss: 2.003343, Train accuracy: 0.638778, val accuracy: 0.598000\n",
      "Loss: 1.680070, Train accuracy: 0.633778, val accuracy: 0.584000\n",
      "Loss: 1.205133, Train accuracy: 0.674889, val accuracy: 0.664000\n",
      "Loss: 1.765879, Train accuracy: 0.669333, val accuracy: 0.624000\n",
      "Loss: 2.079753, Train accuracy: 0.599333, val accuracy: 0.545000\n",
      "Loss: 1.303534, Train accuracy: 0.577333, val accuracy: 0.553000\n",
      "Loss: 1.811617, Train accuracy: 0.693333, val accuracy: 0.646000\n",
      "Loss: 1.657792, Train accuracy: 0.628889, val accuracy: 0.591000\n",
      "Loss: 1.787123, Train accuracy: 0.680222, val accuracy: 0.613000\n",
      "Loss: 1.437984, Train accuracy: 0.607000, val accuracy: 0.590000\n",
      "Loss: 1.716974, Train accuracy: 0.625889, val accuracy: 0.598000\n",
      "Loss: 1.487463, Train accuracy: 0.686111, val accuracy: 0.644000\n",
      "Loss: 1.345137, Train accuracy: 0.682667, val accuracy: 0.654000\n",
      "Loss: 1.515298, Train accuracy: 0.676333, val accuracy: 0.638000\n",
      "Loss: 1.339217, Train accuracy: 0.673222, val accuracy: 0.640000\n",
      "Loss: 2.008653, Train accuracy: 0.643444, val accuracy: 0.606000\n",
      "Loss: 2.372341, Train accuracy: 0.681333, val accuracy: 0.634000\n",
      "Loss: 1.613323, Train accuracy: 0.642000, val accuracy: 0.612000\n",
      "Loss: 1.694992, Train accuracy: 0.627333, val accuracy: 0.595000\n",
      "Loss: 1.547025, Train accuracy: 0.650111, val accuracy: 0.622000\n",
      "Loss: 1.366287, Train accuracy: 0.661778, val accuracy: 0.642000\n",
      "Loss: 1.481455, Train accuracy: 0.680111, val accuracy: 0.627000\n",
      "Loss: 1.739345, Train accuracy: 0.644111, val accuracy: 0.609000\n",
      "Loss: 2.670765, Train accuracy: 0.657556, val accuracy: 0.630000\n",
      "Loss: 2.104200, Train accuracy: 0.673222, val accuracy: 0.630000\n",
      "Loss: 1.468261, Train accuracy: 0.667000, val accuracy: 0.609000\n",
      "Loss: 1.702959, Train accuracy: 0.596444, val accuracy: 0.597000\n",
      "Loss: 1.118279, Train accuracy: 0.643556, val accuracy: 0.610000\n",
      "Loss: 1.362184, Train accuracy: 0.618778, val accuracy: 0.586000\n",
      "Loss: 2.212278, Train accuracy: 0.656889, val accuracy: 0.600000\n",
      "Loss: 1.598657, Train accuracy: 0.656889, val accuracy: 0.610000\n",
      "Loss: 1.544726, Train accuracy: 0.677444, val accuracy: 0.657000\n",
      "Loss: 1.681719, Train accuracy: 0.636889, val accuracy: 0.583000\n",
      "Loss: 1.786623, Train accuracy: 0.659444, val accuracy: 0.621000\n",
      "Loss: 1.483592, Train accuracy: 0.622889, val accuracy: 0.582000\n",
      "Loss: 1.820122, Train accuracy: 0.594889, val accuracy: 0.589000\n",
      "Loss: 1.402374, Train accuracy: 0.669333, val accuracy: 0.637000\n",
      "Loss: 1.920756, Train accuracy: 0.705667, val accuracy: 0.665000\n",
      "Loss: 1.881702, Train accuracy: 0.698222, val accuracy: 0.681000\n",
      "Loss: 1.391137, Train accuracy: 0.674111, val accuracy: 0.642000\n",
      "Loss: 2.108308, Train accuracy: 0.624778, val accuracy: 0.563000\n",
      "Loss: 1.459092, Train accuracy: 0.673556, val accuracy: 0.650000\n",
      "Loss: 1.753042, Train accuracy: 0.672889, val accuracy: 0.656000\n",
      "Loss: 1.742813, Train accuracy: 0.652778, val accuracy: 0.608000\n",
      "Loss: 1.618789, Train accuracy: 0.696778, val accuracy: 0.669000\n",
      "Loss: 1.695196, Train accuracy: 0.592222, val accuracy: 0.566000\n",
      "Loss: 2.007401, Train accuracy: 0.676667, val accuracy: 0.653000\n",
      "Loss: 1.893846, Train accuracy: 0.639000, val accuracy: 0.590000\n",
      "Loss: 1.283326, Train accuracy: 0.698333, val accuracy: 0.659000\n",
      "Loss: 1.368542, Train accuracy: 0.624778, val accuracy: 0.597000\n",
      "Loss: 1.294218, Train accuracy: 0.613444, val accuracy: 0.592000\n",
      "Loss: 1.540688, Train accuracy: 0.609556, val accuracy: 0.577000\n",
      "Loss: 2.134007, Train accuracy: 0.679556, val accuracy: 0.653000\n",
      "Loss: 1.645182, Train accuracy: 0.664889, val accuracy: 0.624000\n",
      "Loss: 1.497300, Train accuracy: 0.679333, val accuracy: 0.631000\n",
      "Loss: 1.815494, Train accuracy: 0.646667, val accuracy: 0.599000\n",
      "Loss: 1.406810, Train accuracy: 0.629111, val accuracy: 0.600000\n",
      "Loss: 1.218592, Train accuracy: 0.653778, val accuracy: 0.640000\n",
      "Loss: 2.144389, Train accuracy: 0.658889, val accuracy: 0.609000\n",
      "Loss: 1.485919, Train accuracy: 0.650667, val accuracy: 0.605000\n",
      "Loss: 1.390589, Train accuracy: 0.646889, val accuracy: 0.605000\n",
      "Loss: 1.482518, Train accuracy: 0.676222, val accuracy: 0.633000\n",
      "Loss: 1.612666, Train accuracy: 0.661000, val accuracy: 0.618000\n",
      "Loss: 1.333064, Train accuracy: 0.641222, val accuracy: 0.610000\n",
      "Loss: 1.887540, Train accuracy: 0.656222, val accuracy: 0.633000\n",
      "Loss: 1.270891, Train accuracy: 0.628444, val accuracy: 0.574000\n",
      "Loss: 1.994923, Train accuracy: 0.654222, val accuracy: 0.617000\n",
      "Loss: 1.429553, Train accuracy: 0.698333, val accuracy: 0.676000\n",
      "Loss: 1.258483, Train accuracy: 0.680333, val accuracy: 0.623000\n",
      "Loss: 1.282725, Train accuracy: 0.658667, val accuracy: 0.617000\n",
      "Loss: 1.548755, Train accuracy: 0.612556, val accuracy: 0.593000\n",
      "Loss: 1.934793, Train accuracy: 0.647778, val accuracy: 0.628000\n",
      "Loss: 2.226299, Train accuracy: 0.576889, val accuracy: 0.519000\n",
      "Loss: 1.522025, Train accuracy: 0.693222, val accuracy: 0.654000\n",
      "Loss: 2.251369, Train accuracy: 0.649556, val accuracy: 0.611000\n",
      "Loss: 1.376601, Train accuracy: 0.621667, val accuracy: 0.562000\n",
      "Loss: 1.562357, Train accuracy: 0.703444, val accuracy: 0.656000\n",
      "Loss: 1.439280, Train accuracy: 0.646667, val accuracy: 0.594000\n",
      "Loss: 1.577185, Train accuracy: 0.676111, val accuracy: 0.666000\n",
      "Loss: 1.349005, Train accuracy: 0.628667, val accuracy: 0.596000\n",
      "Loss: 1.539398, Train accuracy: 0.669556, val accuracy: 0.658000\n",
      "Loss: 1.107802, Train accuracy: 0.647556, val accuracy: 0.617000\n",
      "Loss: 1.932164, Train accuracy: 0.632556, val accuracy: 0.611000\n",
      "Loss: 1.655620, Train accuracy: 0.681889, val accuracy: 0.627000\n",
      "Loss: 1.663369, Train accuracy: 0.688778, val accuracy: 0.652000\n"
     ]
    },
    {
     "name": "stdout",
     "output_type": "stream",
     "text": [
      "Loss: 2.464704, Train accuracy: 0.610000, val accuracy: 0.594000\n",
      "Loss: 1.423482, Train accuracy: 0.673333, val accuracy: 0.637000\n",
      "Loss: 2.066314, Train accuracy: 0.619222, val accuracy: 0.577000\n",
      "Loss: 1.469236, Train accuracy: 0.608333, val accuracy: 0.583000\n",
      "Loss: 1.309820, Train accuracy: 0.679889, val accuracy: 0.647000\n",
      "Loss: 1.884271, Train accuracy: 0.689222, val accuracy: 0.641000\n",
      "Loss: 2.206708, Train accuracy: 0.610333, val accuracy: 0.595000\n",
      "Loss: 1.782381, Train accuracy: 0.591556, val accuracy: 0.571000\n",
      "Loss: 1.378994, Train accuracy: 0.632333, val accuracy: 0.593000\n",
      "Loss: 2.188842, Train accuracy: 0.603667, val accuracy: 0.577000\n",
      "Loss: 1.444618, Train accuracy: 0.644778, val accuracy: 0.610000\n",
      "Loss: 1.825658, Train accuracy: 0.621667, val accuracy: 0.590000\n",
      "Loss: 1.918821, Train accuracy: 0.643667, val accuracy: 0.585000\n",
      "Loss: 1.383276, Train accuracy: 0.663667, val accuracy: 0.650000\n",
      "Loss: 2.150226, Train accuracy: 0.617222, val accuracy: 0.587000\n",
      "Loss: 1.650330, Train accuracy: 0.652778, val accuracy: 0.615000\n",
      "Loss: 1.727275, Train accuracy: 0.619333, val accuracy: 0.602000\n",
      "Loss: 1.912398, Train accuracy: 0.648778, val accuracy: 0.621000\n",
      "Loss: 1.512760, Train accuracy: 0.670778, val accuracy: 0.626000\n",
      "Loss: 2.200599, Train accuracy: 0.657222, val accuracy: 0.604000\n",
      "Loss: 1.316542, Train accuracy: 0.672111, val accuracy: 0.627000\n",
      "Loss: 1.643449, Train accuracy: 0.667222, val accuracy: 0.626000\n",
      "Loss: 1.741473, Train accuracy: 0.592000, val accuracy: 0.561000\n",
      "Loss: 1.589917, Train accuracy: 0.646000, val accuracy: 0.620000\n",
      "Loss: 2.273542, Train accuracy: 0.646667, val accuracy: 0.627000\n",
      "Loss: 1.528652, Train accuracy: 0.673778, val accuracy: 0.642000\n",
      "Loss: 1.673395, Train accuracy: 0.622222, val accuracy: 0.600000\n",
      "Loss: 1.540465, Train accuracy: 0.670333, val accuracy: 0.631000\n",
      "Loss: 1.614844, Train accuracy: 0.682000, val accuracy: 0.658000\n",
      "Loss: 2.055432, Train accuracy: 0.663778, val accuracy: 0.651000\n",
      "Loss: 2.296675, Train accuracy: 0.659667, val accuracy: 0.598000\n",
      "Loss: 1.786974, Train accuracy: 0.627889, val accuracy: 0.610000\n",
      "Loss: 1.535442, Train accuracy: 0.670556, val accuracy: 0.639000\n",
      "Loss: 1.740364, Train accuracy: 0.680333, val accuracy: 0.639000\n",
      "Loss: 1.200379, Train accuracy: 0.625000, val accuracy: 0.601000\n",
      "Loss: 1.218205, Train accuracy: 0.626444, val accuracy: 0.606000\n",
      "Loss: 1.137065, Train accuracy: 0.628556, val accuracy: 0.615000\n",
      "Loss: 1.337324, Train accuracy: 0.586333, val accuracy: 0.545000\n",
      "Loss: 1.410678, Train accuracy: 0.673778, val accuracy: 0.615000\n",
      "Loss: 1.434018, Train accuracy: 0.663333, val accuracy: 0.632000\n",
      "Loss: 1.496160, Train accuracy: 0.695000, val accuracy: 0.631000\n",
      "Loss: 1.328707, Train accuracy: 0.682778, val accuracy: 0.650000\n",
      "Loss: 1.601733, Train accuracy: 0.633111, val accuracy: 0.601000\n",
      "Loss: 0.989536, Train accuracy: 0.648333, val accuracy: 0.620000\n",
      "Loss: 1.497800, Train accuracy: 0.659111, val accuracy: 0.626000\n",
      "Loss: 1.468251, Train accuracy: 0.696222, val accuracy: 0.643000\n",
      "Loss: 1.304323, Train accuracy: 0.693111, val accuracy: 0.655000\n",
      "Loss: 1.449413, Train accuracy: 0.664000, val accuracy: 0.635000\n",
      "Loss: 1.544375, Train accuracy: 0.680778, val accuracy: 0.641000\n",
      "Loss: 1.098448, Train accuracy: 0.654778, val accuracy: 0.627000\n",
      "Loss: 1.660444, Train accuracy: 0.683556, val accuracy: 0.637000\n",
      "Loss: 1.908853, Train accuracy: 0.627889, val accuracy: 0.579000\n",
      "Loss: 1.509864, Train accuracy: 0.677444, val accuracy: 0.639000\n",
      "Loss: 1.299959, Train accuracy: 0.669000, val accuracy: 0.653000\n",
      "Loss: 1.744882, Train accuracy: 0.619778, val accuracy: 0.597000\n",
      "Loss: 1.564205, Train accuracy: 0.643667, val accuracy: 0.612000\n",
      "Loss: 1.656882, Train accuracy: 0.631333, val accuracy: 0.595000\n",
      "Loss: 2.067641, Train accuracy: 0.623444, val accuracy: 0.603000\n",
      "Loss: 1.437998, Train accuracy: 0.636444, val accuracy: 0.591000\n",
      "Loss: 1.542581, Train accuracy: 0.683667, val accuracy: 0.623000\n",
      "Loss: 1.764741, Train accuracy: 0.664000, val accuracy: 0.619000\n",
      "Loss: 1.553021, Train accuracy: 0.668889, val accuracy: 0.625000\n",
      "Loss: 1.770907, Train accuracy: 0.671556, val accuracy: 0.634000\n",
      "Loss: 1.671826, Train accuracy: 0.691778, val accuracy: 0.667000\n",
      "Loss: 2.206702, Train accuracy: 0.654444, val accuracy: 0.597000\n",
      "Loss: 1.278833, Train accuracy: 0.671333, val accuracy: 0.644000\n",
      "Loss: 1.774672, Train accuracy: 0.635444, val accuracy: 0.608000\n",
      "Loss: 1.368502, Train accuracy: 0.710000, val accuracy: 0.658000\n",
      "Loss: 1.578764, Train accuracy: 0.647000, val accuracy: 0.595000\n",
      "Loss: 1.403587, Train accuracy: 0.629444, val accuracy: 0.589000\n",
      "Loss: 1.646784, Train accuracy: 0.687222, val accuracy: 0.647000\n",
      "Loss: 1.879625, Train accuracy: 0.618778, val accuracy: 0.578000\n",
      "Loss: 1.403270, Train accuracy: 0.638778, val accuracy: 0.608000\n",
      "next\n",
      "best validation accuracy achieved: 0.608000\n"
     ]
    }
   ],
   "source": [
    "# Let's train the best one-hidden-layer network we can\n",
    "\n",
    "# learning_rates = 1e-4\n",
    "# reg_strength = 1e-3\n",
    "# learning_rate_decay = 0.999\n",
    "# hidden_layer_size = 128\n",
    "# num_epochs = 200\n",
    "# batch_size = 64\n",
    "\n",
    "learning_rates = [1e-1]\n",
    "reg_strengths = [1e-3]\n",
    "learning_rate_decay = [0.999]\n",
    "hidden_layer_sizes = [3]\n",
    "num_epochs = [200]\n",
    "batch_sizes = [64]\n",
    "best_classifier = None\n",
    "best_val_accuracy = None\n",
    "\n",
    "loss_history = []\n",
    "train_history = []\n",
    "val_history = []\n",
    "\n",
    "# TODO find the best hyperparameters to train the network\n",
    "# Don't hesitate to add new values to the arrays above, perform experiments, use any tricks you want\n",
    "# You should expect to get to at least 40% of valudation accuracy\n",
    "# Save loss/train/history of the best classifier to the variables above\n",
    "\n",
    "for learning_rate in learning_rates:\n",
    "    for reg_strength in reg_strengths:\n",
    "        for hidden_layer_size in hidden_layer_sizes:\n",
    "            for num_epoch in num_epochs:\n",
    "                for batch_size in batch_sizes:\n",
    "                    \n",
    "                    model = TwoLayerNet(n_input = train_X.shape[1], \n",
    "                                    n_output = 10, \n",
    "                                    hidden_layer_size = hidden_layer_size, \n",
    "                                    reg = reg_strength)\n",
    "                    dataset = Dataset(train_X, train_y, val_X, val_y)\n",
    "                    trainer = Trainer(model, dataset, MomentumSGD(), \n",
    "                                      learning_rate=learning_rate, \n",
    "                                      num_epochs=num_epoch, batch_size=batch_size)\n",
    "                    loss_history, train_history, val_history = trainer.fit()\n",
    "                    if best_classifier == None:\n",
    "                        best_classifier = model\n",
    "                        best_val_accuracy = val_history[-1]\n",
    "\n",
    "                    if best_val_accuracy<best_val_accuracy:\n",
    "                        best_classifier = model\n",
    "                        best_val_accuracy = val_history[-1]\n",
    "                        best_learning_rate = learning_rate\n",
    "                        best_reg_strength = reg_strength\n",
    "                        best_hidden_layer_size = hidden_layer_size\n",
    "                        best_num_epoch = num_epoch\n",
    "                    print('next')\n",
    "\n",
    "\n",
    "\n",
    "\n",
    "print('best validation accuracy achieved: %f' % best_val_accuracy)"
   ]
  },
  {
   "cell_type": "code",
   "execution_count": 63,
   "metadata": {},
   "outputs": [
    {
     "data": {
      "text/plain": [
       "[<matplotlib.lines.Line2D at 0xb1ff82358>]"
      ]
     },
     "execution_count": 63,
     "metadata": {},
     "output_type": "execute_result"
    },
    {
     "data": {
      "image/png": "[encoded data removed]",
      "text/plain": [
       "<Figure size 1080x504 with 2 Axes>"
      ]
     },
     "metadata": {
      "needs_background": "light"
     },
     "output_type": "display_data"
    }
   ],
   "source": [
    "plt.figure(figsize=(15, 7))\n",
    "plt.subplot(211)\n",
    "plt.title(\"Loss\")\n",
    "plt.plot(loss_history)\n",
    "plt.subplot(212)\n",
    "plt.title(\"Train/validation accuracy\")\n",
    "plt.plot(train_history)\n",
    "plt.plot(val_history)"
   ]
  },
  {
   "cell_type": "markdown",
   "metadata": {},
   "source": [
    "# Как обычно, посмотрим, как наша лучшая модель работает на тестовых данных"
   ]
  },
  {
   "cell_type": "code",
   "execution_count": 64,
   "metadata": {},
   "outputs": [
    {
     "name": "stdout",
     "output_type": "stream",
     "text": [
      "Neural net test set accuracy: 0.523000\n"
     ]
    }
   ],
   "source": [
    "test_pred = best_classifier.predict(test_X)\n",
    "test_accuracy = multiclass_accuracy(test_pred, test_y)\n",
    "print('Neural net test set accuracy: %f' % (test_accuracy, ))"
   ]
  },
  {
   "cell_type": "code",
   "execution_count": null,
   "metadata": {},
   "outputs": [],
   "source": []
  }
 ],
 "metadata": {
  "kernelspec": {
   "display_name": "Python 3",
   "language": "python",
   "name": "python3"
  },
  "language_info": {
   "codemirror_mode": {
    "name": "ipython",
    "version": 3
   },
   "file_extension": ".py",
   "mimetype": "text/x-python",
   "name": "python",
   "nbconvert_exporter": "python",
   "pygments_lexer": "ipython3",
   "version": "3.7.1"
  }
 },
 "nbformat": 4,
 "nbformat_minor": 2
}
