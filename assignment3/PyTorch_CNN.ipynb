{
  "nbformat": 4,
  "nbformat_minor": 0,
  "metadata": {
    "colab": {
      "name": "PyTorch_CNN.ipynb",
      "version": "0.3.2",
      "provenance": [],
      "collapsed_sections": [],
      "toc_visible": true
    },
    "language_info": {
      "codemirror_mode": {
        "name": "ipython",
        "version": 3
      },
      "file_extension": ".py",
      "mimetype": "text/x-python",
      "name": "python",
      "nbconvert_exporter": "python",
      "pygments_lexer": "ipython3",
      "version": "3.7.1"
    },
    "kernelspec": {
      "name": "python3",
      "display_name": "Python 3"
    },
    "accelerator": "GPU"
  },
  "cells": [
    {
      "cell_type": "markdown",
      "metadata": {
        "id": "HbL7VLlra8Vl",
        "colab_type": "text"
      },
      "source": [
        "# Задание 3.2 - сверточные нейронные сети (CNNs) в PyTorch\n",
        "\n",
        "Это упражнение мы буде выполнять в Google Colab - https://colab.research.google.com/  \n",
        "Google Colab позволяет запускать код в notebook в облаке Google, где можно воспользоваться бесплатным GPU!  \n",
        "\n",
        "Авторы курса благодарят компанию Google и надеятся, что праздник не закончится.\n",
        "\n",
        "Туториал по настройке Google Colab:  \n",
        "https://medium.com/deep-learning-turkey/google-colab-free-gpu-tutorial-e113627b9f5d  \n",
        "(Keras инсталлировать не нужно, наш notebook сам установит PyTorch)\n"
      ]
    },
    {
      "cell_type": "code",
      "metadata": {
        "colab_type": "code",
        "id": "FcXBeP1O7cnY",
        "outputId": "b1f37618-db7b-457d-b5d6-c469601e7c07",
        "colab": {
          "base_uri": "https://localhost:8080/",
          "height": 547
        }
      },
      "source": [
        "# Intstall PyTorch and download data\n",
        "!pip3 install torch torchvision\n",
        "\n",
        "!wget -c http://ufldl.stanford.edu/housenumbers/train_32x32.mat http://ufldl.stanford.edu/housenumbers/test_32x32.mat"
      ],
      "execution_count": 2,
      "outputs": [
        {
          "output_type": "stream",
          "text": [
            "Requirement already satisfied: torch in /usr/local/lib/python3.6/dist-packages (1.1.0)\n",
            "Requirement already satisfied: torchvision in /usr/local/lib/python3.6/dist-packages (0.3.0)\n",
            "Requirement already satisfied: numpy in /usr/local/lib/python3.6/dist-packages (from torch) (1.16.4)\n",
            "Requirement already satisfied: pillow>=4.1.1 in /usr/local/lib/python3.6/dist-packages (from torchvision) (4.3.0)\n",
            "Requirement already satisfied: six in /usr/local/lib/python3.6/dist-packages (from torchvision) (1.12.0)\n",
            "Requirement already satisfied: olefile in /usr/local/lib/python3.6/dist-packages (from pillow>=4.1.1->torchvision) (0.46)\n",
            "--2019-06-12 08:34:48--  http://ufldl.stanford.edu/housenumbers/train_32x32.mat\n",
            "Resolving ufldl.stanford.edu (ufldl.stanford.edu)... 171.64.68.10\n",
            "Connecting to ufldl.stanford.edu (ufldl.stanford.edu)|171.64.68.10|:80... connected.\n",
            "HTTP request sent, awaiting response... 200 OK\n",
            "Length: 182040794 (174M) [text/plain]\n",
            "Saving to: ‘train_32x32.mat’\n",
            "\n",
            "train_32x32.mat     100%[===================>] 173.61M  31.6MB/s    in 7.1s    \n",
            "\n",
            "2019-06-12 08:34:55 (24.5 MB/s) - ‘train_32x32.mat’ saved [182040794/182040794]\n",
            "\n",
            "--2019-06-12 08:34:55--  http://ufldl.stanford.edu/housenumbers/test_32x32.mat\n",
            "Reusing existing connection to ufldl.stanford.edu:80.\n",
            "HTTP request sent, awaiting response... 200 OK\n",
            "Length: 64275384 (61M) [text/plain]\n",
            "Saving to: ‘test_32x32.mat’\n",
            "\n",
            "test_32x32.mat      100%[===================>]  61.30M  29.7MB/s    in 2.1s    \n",
            "\n",
            "2019-06-12 08:34:58 (29.7 MB/s) - ‘test_32x32.mat’ saved [64275384/64275384]\n",
            "\n",
            "FINISHED --2019-06-12 08:34:58--\n",
            "Total wall clock time: 9.4s\n",
            "Downloaded: 2 files, 235M in 9.1s (25.7 MB/s)\n"
          ],
          "name": "stdout"
        }
      ]
    },
    {
      "cell_type": "code",
      "metadata": {
        "colab_type": "code",
        "id": "-afwWw-Q85vD",
        "colab": {}
      },
      "source": [
        "from collections import namedtuple\n",
        "\n",
        "import matplotlib.pyplot as plt\n",
        "import numpy as np\n",
        "import PIL\n",
        "import torch\n",
        "import torch.nn as nn\n",
        "import torch.optim as optim\n",
        "import torchvision.datasets as dset\n",
        "from torch.utils.data.sampler import SubsetRandomSampler\n",
        "\n",
        "from torchvision import transforms"
      ],
      "execution_count": 0,
      "outputs": []
    },
    {
      "cell_type": "code",
      "metadata": {
        "colab_type": "code",
        "id": "NNU-OD9O9ltP",
        "colab": {}
      },
      "source": [
        "device = torch.device(\"cuda:0\") # Let's make sure GPU is available!"
      ],
      "execution_count": 0,
      "outputs": []
    },
    {
      "cell_type": "markdown",
      "metadata": {
        "id": "d8hJUNI0a8V0",
        "colab_type": "text"
      },
      "source": [
        "# Загружаем данные"
      ]
    },
    {
      "cell_type": "code",
      "metadata": {
        "colab_type": "code",
        "id": "YAvkoRx-9FsP",
        "colab": {}
      },
      "source": [
        "# First, lets load the dataset\n",
        "data_train = dset.SVHN('./', \n",
        "                       transform=transforms.Compose([\n",
        "                           transforms.ToTensor(),\n",
        "                           transforms.Normalize(mean=[0.43,0.44,0.47],\n",
        "                                               std=[0.20,0.20,0.20])                           \n",
        "                       ])\n",
        "                      )\n",
        "data_test = dset.SVHN('./', split='test', transform=transforms.Compose([\n",
        "                           transforms.ToTensor(),\n",
        "                           transforms.Normalize(mean=[0.43,0.44,0.47],\n",
        "                                               std=[0.20,0.20,0.20])                           \n",
        "                       ]))"
      ],
      "execution_count": 0,
      "outputs": []
    },
    {
      "cell_type": "markdown",
      "metadata": {
        "id": "blIHv_Bpa8V5",
        "colab_type": "text"
      },
      "source": [
        "Разделяем данные на training и validation.\n",
        "\n",
        "На всякий случай для подробностей - https://pytorch.org/tutorials/beginner/data_loading_tutorial.html"
      ]
    },
    {
      "cell_type": "code",
      "metadata": {
        "colab_type": "code",
        "id": "YRnr8CPg7Hli",
        "colab": {}
      },
      "source": [
        "batch_size = 64\n",
        "\n",
        "data_size = data_train.data.shape[0]\n",
        "validation_split = .2\n",
        "split = int(np.floor(validation_split * data_size))\n",
        "indices = list(range(data_size))\n",
        "np.random.shuffle(indices)\n",
        "\n",
        "train_indices, val_indices = indices[split:], indices[:split]\n",
        "\n",
        "train_sampler = SubsetRandomSampler(train_indices)\n",
        "val_sampler = SubsetRandomSampler(val_indices)\n",
        "\n",
        "train_loader = torch.utils.data.DataLoader(data_train, batch_size=batch_size, \n",
        "                                           sampler=train_sampler)\n",
        "val_loader = torch.utils.data.DataLoader(data_train, batch_size=batch_size,\n",
        "                                         sampler=val_sampler)"
      ],
      "execution_count": 0,
      "outputs": []
    },
    {
      "cell_type": "code",
      "metadata": {
        "colab_type": "code",
        "id": "LyYvt-T67PBG",
        "colab": {}
      },
      "source": [
        "# We'll use a special helper module to shape it into a flat tensor\n",
        "class Flattener(nn.Module):\n",
        "    def forward(self, x):\n",
        "        batch_size, *_ = x.shape\n",
        "        return x.view(batch_size, -1)"
      ],
      "execution_count": 0,
      "outputs": []
    },
    {
      "cell_type": "markdown",
      "metadata": {
        "id": "Ul0e64Caa8V-",
        "colab_type": "text"
      },
      "source": [
        "Создадим простейшую сеть с новыми слоями:  \n",
        "Convolutional - `nn.Conv2d`  \n",
        "MaxPool - `nn.MaxPool2d`"
      ]
    },
    {
      "cell_type": "code",
      "metadata": {
        "colab_type": "code",
        "id": "w9SFVGZP7SQd",
        "colab": {}
      },
      "source": [
        "nn_model = nn.Sequential(\n",
        "            nn.Conv2d(3, 64, 3, padding=1),\n",
        "            nn.ReLU(inplace=True),\n",
        "            nn.MaxPool2d(4),\n",
        "            nn.Conv2d(64, 64, 3, padding=1),\n",
        "            nn.ReLU(inplace=True),\n",
        "            nn.MaxPool2d(4),    \n",
        "            Flattener(),\n",
        "            nn.Linear(64*2*2, 10),\n",
        "          )\n",
        "\n",
        "nn_model.type(torch.cuda.FloatTensor)\n",
        "nn_model.to(device)\n",
        "\n",
        "loss = nn.CrossEntropyLoss().type(torch.cuda.FloatTensor)\n",
        "optimizer = optim.SGD(nn_model.parameters(), lr=1e-1, weight_decay=1e-4)"
      ],
      "execution_count": 0,
      "outputs": []
    },
    {
      "cell_type": "markdown",
      "metadata": {
        "id": "_wuDLNKOa8WC",
        "colab_type": "text"
      },
      "source": [
        "Восстановите функцию `compute_accuracy` из прошлого задания.  \n",
        "Единственное отличие в новом - она должна передать данные на GPU прежде чем прогонять через модель. Сделайте это так же, как это делает функция `train_model`"
      ]
    },
    {
      "cell_type": "code",
      "metadata": {
        "colab_type": "code",
        "id": "2ek3KVQK7hJ6",
        "colab": {
          "base_uri": "https://localhost:8080/",
          "height": 102
        },
        "outputId": "b5574b76-76ec-42d9-8ec5-2dcf631d7c7a"
      },
      "source": [
        "def train_model(model, train_loader, val_loader, loss, optimizer, num_epochs):    \n",
        "    loss_history = []\n",
        "    train_history = []\n",
        "    val_history = []\n",
        "    for epoch in range(num_epochs):\n",
        "        model.train() # Enter train mode\n",
        "        \n",
        "        loss_accum = 0\n",
        "        correct_samples = 0\n",
        "        total_samples = 0\n",
        "        for i_step, (x, y) in enumerate(train_loader):\n",
        "          \n",
        "            x_gpu = x.to(device)\n",
        "            y_gpu = y.to(device)\n",
        "            prediction = model(x_gpu)    \n",
        "            loss_value = loss(prediction, y_gpu)\n",
        "            optimizer.zero_grad()\n",
        "            loss_value.backward()\n",
        "            optimizer.step()\n",
        "            \n",
        "            _, indices = torch.max(prediction, 1)\n",
        "            correct_samples += torch.sum(indices == y_gpu)\n",
        "            total_samples += y.shape[0]\n",
        "            \n",
        "            loss_accum += loss_value\n",
        "\n",
        "        ave_loss = loss_accum / i_step\n",
        "        train_accuracy = float(correct_samples) / total_samples\n",
        "        val_accuracy = compute_accuracy(model, val_loader)\n",
        "        \n",
        "        loss_history.append(float(ave_loss))\n",
        "        train_history.append(train_accuracy)\n",
        "        val_history.append(val_accuracy)\n",
        "        \n",
        "        print(\"Average loss: %f, Train accuracy: %f, Val accuracy: %f\" % (ave_loss, train_accuracy, val_accuracy))\n",
        "        \n",
        "    return loss_history, train_history, val_history\n",
        "        \n",
        "def compute_accuracy(model, loader):\n",
        "    \"\"\"\n",
        "    Computes accuracy on the dataset wrapped in a loader\n",
        "    \n",
        "    Returns: accuracy as a float value between 0 and 1\n",
        "    \"\"\"\n",
        "    model.eval() # Evaluation mode\n",
        "    # TODO: Copy implementation from previous assignment\n",
        "    # Don't forget to move the data to device before running it through the model!\n",
        "    correct_samples = 0\n",
        "    total_samples = 0\n",
        "    for i_step, (x, y) in enumerate(loader):\n",
        "      x_gpu = x.to(device)\n",
        "      y_gpu = y.to(device)\n",
        "      prediction = model(x_gpu)\n",
        "      _, indices = torch.max(prediction, 1)\n",
        "      correct_samples += torch.sum(indices == y_gpu)\n",
        "      total_samples += y_gpu.shape[0]\n",
        "    accuracy = float(correct_samples) / total_samples\n",
        "    return accuracy\n",
        "    \n",
        " \n",
        "loss_history, train_history, val_history = train_model(nn_model, train_loader, val_loader, loss, optimizer, 5)"
      ],
      "execution_count": 11,
      "outputs": [
        {
          "output_type": "stream",
          "text": [
            "Average loss: 0.688441, Train accuracy: 0.792291, Val accuracy: 0.793256\n",
            "Average loss: 0.589492, Train accuracy: 0.823482, Val accuracy: 0.828544\n",
            "Average loss: 0.545906, Train accuracy: 0.836826, Val accuracy: 0.810798\n",
            "Average loss: 0.513314, Train accuracy: 0.847831, Val accuracy: 0.853730\n",
            "Average loss: 0.490753, Train accuracy: 0.856806, Val accuracy: 0.840693\n"
          ],
          "name": "stdout"
        }
      ]
    },
    {
      "cell_type": "markdown",
      "metadata": {
        "colab_type": "text",
        "id": "6a-3a1ZFGEw_"
      },
      "source": [
        "# Аугментация данных (Data augmentation)\n",
        "\n",
        "В работе с изображениями одним из особенно важных методов является аугментация данных - то есть, генерация дополнительных данных для тренировки на основе изначальных.   \n",
        "Таким образом, мы получаем возможность \"увеличить\" набор данных для тренировки, что ведет к лучшей работе сети.\n",
        "Важно, чтобы аугментированные данные были похожи на те, которые могут встретиться в реальной жизни, иначе польза от аугментаций уменьшается и может ухудшить работу сети.\n",
        "\n",
        "С PyTorch идут несколько таких алгоритмов, называемых `transforms`. Более подробно про них можно прочитать тут -\n",
        "https://pytorch.org/tutorials/beginner/data_loading_tutorial.html#transforms\n",
        "\n",
        "Ниже мы используем следующие алгоритмы генерации:\n",
        "- ColorJitter - случайное изменение цвета\n",
        "- RandomHorizontalFlip - горизонтальное отражение с вероятностью 50%\n",
        "- RandomVerticalFlip - вертикальное отражение с вероятностью 50%\n",
        "- RandomRotation - случайный поворот"
      ]
    },
    {
      "cell_type": "code",
      "metadata": {
        "colab_type": "code",
        "id": "jCWMUWmr7t5g",
        "colab": {}
      },
      "source": [
        "tfs = transforms.Compose([\n",
        "    transforms.ColorJitter(hue=.50, saturation=.50),\n",
        "    transforms.RandomHorizontalFlip(),\n",
        "    transforms.RandomVerticalFlip(),\n",
        "    transforms.RandomRotation(50, resample=PIL.Image.BILINEAR),\n",
        "    transforms.ToTensor(),\n",
        "    transforms.Normalize(mean=[0.43,0.44,0.47],\n",
        "                       std=[0.20,0.20,0.20])                           \n",
        "])\n",
        "\n",
        "# Create augmented train dataset\n",
        "data_aug_train = dset.SVHN('./', \n",
        "                       transform=tfs\n",
        "                      )\n",
        "\n",
        "train_aug_loader = torch.utils.data.DataLoader(data_aug_train, batch_size=batch_size, \n",
        "                                           sampler=train_sampler)"
      ],
      "execution_count": 0,
      "outputs": []
    },
    {
      "cell_type": "markdown",
      "metadata": {
        "id": "UkG4_810a8WM",
        "colab_type": "text"
      },
      "source": [
        "Визуализируем результаты агментации (вообще, смотреть на сгенерированные данные всегда очень полезно)."
      ]
    },
    {
      "cell_type": "code",
      "metadata": {
        "colab_type": "code",
        "id": "YlJJEro1KZ45",
        "colab": {
          "base_uri": "https://localhost:8080/",
          "height": 212
        },
        "outputId": "c4703555-957f-422a-f4aa-ee95760a052e"
      },
      "source": [
        "# TODO: Visualize some augmented images!\n",
        "# hint: you can create new datasets and loaders to accomplish this\n",
        "\n",
        "# Based on the visualizations, should we keep all the augmentations?\n",
        "\n",
        "tfs = transforms.Compose([\n",
        "    transforms.ColorJitter(hue=.20, saturation=.20),\n",
        "    transforms.RandomHorizontalFlip(),\n",
        "    transforms.RandomVerticalFlip(),\n",
        "    transforms.RandomRotation(10, resample=PIL.Image.BILINEAR),\n",
        "])\n",
        "\n",
        "data_aug_vis = dset.SVHN('./', \n",
        "                       transform=tfs\n",
        "                      )\n",
        "\n",
        "plt.figure(figsize=(30, 3))\n",
        "\n",
        "for i, (x, y) in enumerate(data_aug_vis):\n",
        "    if i == 10:\n",
        "        break\n",
        "    plt.subplot(1, 10, i+1)\n",
        "    plt.grid(False)\n",
        "    plt.imshow(x)\n",
        "    plt.axis('off')"
      ],
      "execution_count": 13,
      "outputs": [
        {
          "output_type": "display_data",
          "data": {
            "image/png": "[encoded data removed]",
            "text/plain": [
              "<Figure size 2160x216 with 10 Axes>"
            ]
          },
          "metadata": {
            "tags": []
          }
        }
      ]
    },
    {
      "cell_type": "markdown",
      "metadata": {
        "colab_type": "text",
        "id": "o2LrmsYHoguB"
      },
      "source": [
        "Все ли агментации одинаково полезны на этом наборе данных? Могут ли быть среди них те, которые собьют модель с толку?\n",
        "\n",
        "Выберите из них только корректные"
      ]
    },
    {
      "cell_type": "code",
      "metadata": {
        "colab_type": "code",
        "id": "evro9ksXGs9u",
        "colab": {}
      },
      "source": [
        "# TODO: \n",
        "tfs = transforms.Compose([\n",
        "    # TODO: Add good augmentations\n",
        "    transforms.ColorJitter(hue=.50, saturation=.50),\n",
        "    transforms.RandomRotation(50, resample=PIL.Image.BILINEAR),\n",
        "    transforms.ToTensor(),\n",
        "    transforms.Normalize(mean=[0.43,0.44,0.47],\n",
        "                       std=[0.20,0.20,0.20])                           \n",
        "])\n",
        "\n",
        "# TODO create new instances of loaders with the augmentations you chose\n",
        "data_aug_train = dset.SVHN('./', \n",
        "                       transform=tfs\n",
        "                      )\n",
        "train_aug_loader = torch.utils.data.DataLoader(data_aug_train, batch_size=batch_size, \n",
        "                                               sampler=train_sampler)"
      ],
      "execution_count": 0,
      "outputs": []
    },
    {
      "cell_type": "code",
      "metadata": {
        "colab_type": "code",
        "id": "PeO6Zw0DHqPR",
        "colab": {
          "base_uri": "https://localhost:8080/",
          "height": 102
        },
        "outputId": "3a4959e9-85ad-4ce9-ff5d-d4c588348914"
      },
      "source": [
        "# Finally, let's train with augmentations!\n",
        "\n",
        "# Note we shouldn't use augmentations on validation\n",
        "\n",
        "loss_history, train_history, val_history = train_model(nn_model, train_aug_loader, \n",
        "                                                      val_loader, loss, optimizer, 5)"
      ],
      "execution_count": 15,
      "outputs": [
        {
          "output_type": "stream",
          "text": [
            "Average loss: 1.262774, Train accuracy: 0.587005, Val accuracy: 0.723091\n",
            "Average loss: 0.993330, Train accuracy: 0.679947, Val accuracy: 0.718518\n",
            "Average loss: 0.914544, Train accuracy: 0.703836, Val accuracy: 0.750665\n",
            "Average loss: 0.871705, Train accuracy: 0.721104, Val accuracy: 0.747526\n",
            "Average loss: 0.839821, Train accuracy: 0.733116, Val accuracy: 0.779879\n"
          ],
          "name": "stdout"
        }
      ]
    },
    {
      "cell_type": "markdown",
      "metadata": {
        "colab_type": "text",
        "id": "r0bcioK6JBDK"
      },
      "source": [
        "# LeNet\n",
        "Попробуем имплементировать классическую архитектуру сверточной нейронной сети, предложенную Яном ЛеКуном в 1998 году. В свое время она достигла впечатляющих результатов на MNIST, посмотрим как она справится с SVHN?\n",
        "Она описана в статье [\"Gradient Based Learning Applied to Document Recognition\"](http://yann.lecun.com/exdb/publis/pdf/lecun-01a.pdf), попробуйте прочитать ключевые части и имплементировать предложенную архитетуру на PyTorch.\n",
        "\n",
        "Реализовывать слои и функцию ошибки LeNet, которых нет в PyTorch, **не нужно** - просто возьмите их размеры и переведите в уже известные нам Convolutional, Pooling и Fully Connected layers.\n",
        "\n",
        "Если в статье не очень понятно, можно просто погуглить LeNet и разобраться в деталях :)"
      ]
    },
    {
      "cell_type": "code",
      "metadata": {
        "colab_type": "code",
        "id": "ieEzZUglJAUB",
        "colab": {}
      },
      "source": [
        "# TODO: Implement LeNet-like architecture for SVHN task\n",
        "lenet_model = nn.Sequential(\n",
        "            nn.Conv2d(3, 6, 5),\n",
        "            nn.ReLU(inplace=True),\n",
        "            nn.MaxPool2d(2, stride=2),\n",
        "            nn.Conv2d(6, 16, 5),\n",
        "            nn.ReLU(inplace=True),\n",
        "            nn.MaxPool2d(2, stride=2),   \n",
        "            nn.Conv2d(16, 120, 5),\n",
        "            nn.ReLU(inplace=True),\n",
        "            Flattener(),\n",
        "            nn.Linear(120, 84),\n",
        "            nn.ReLU(inplace=True),\n",
        "            nn.Linear(84, 10)\n",
        "          )\n",
        "\n",
        "lenet_model.type(torch.cuda.FloatTensor)\n",
        "lenet_model.to(device)\n",
        "\n",
        "loss = nn.CrossEntropyLoss().type(torch.cuda.FloatTensor)\n",
        "optimizer = optim.SGD(lenet_model.parameters(), lr=1e-1, weight_decay=1e-4)"
      ],
      "execution_count": 0,
      "outputs": []
    },
    {
      "cell_type": "code",
      "metadata": {
        "colab_type": "code",
        "id": "WMmaPfdeKk9H",
        "colab": {
          "base_uri": "https://localhost:8080/",
          "height": 187
        },
        "outputId": "526a972c-6803-44aa-8a84-74f44499ca8c"
      },
      "source": [
        "# Let's train it!\n",
        "loss_history, train_history, val_history = train_model(lenet_model, train_aug_loader, \n",
        "                                                       val_loader, loss, optimizer, 10)"
      ],
      "execution_count": 17,
      "outputs": [
        {
          "output_type": "stream",
          "text": [
            "Average loss: 1.848243, Train accuracy: 0.351875, Val accuracy: 0.640093\n",
            "Average loss: 0.858714, Train accuracy: 0.731188, Val accuracy: 0.736264\n",
            "Average loss: 0.694436, Train accuracy: 0.785807, Val accuracy: 0.811071\n",
            "Average loss: 0.623626, Train accuracy: 0.808347, Val accuracy: 0.819057\n",
            "Average loss: 0.578887, Train accuracy: 0.822868, Val accuracy: 0.832708\n",
            "Average loss: 0.545610, Train accuracy: 0.834505, Val accuracy: 0.839465\n",
            "Average loss: 0.530840, Train accuracy: 0.838498, Val accuracy: 0.842332\n",
            "Average loss: 0.509352, Train accuracy: 0.844828, Val accuracy: 0.851000\n",
            "Average loss: 0.496317, Train accuracy: 0.849691, Val accuracy: 0.851819\n",
            "Average loss: 0.486764, Train accuracy: 0.852643, Val accuracy: 0.856256\n"
          ],
          "name": "stdout"
        }
      ]
    },
    {
      "cell_type": "markdown",
      "metadata": {
        "colab_type": "text",
        "id": "u_O9qiYySvuj"
      },
      "source": [
        "# Подбор гиперпараметров"
      ]
    },
    {
      "cell_type": "code",
      "metadata": {
        "id": "4jkspATnWanI",
        "colab_type": "code",
        "colab": {}
      },
      "source": [
        "\n",
        "def train_model(model, train_loader, val_loader, loss, optimizer, num_epochs, step_size):   \n",
        "    scheduler = optim.lr_scheduler.StepLR(optimizer, step_size=step_size, gamma=0.5)\n",
        "    loss_history = []\n",
        "    train_history = []\n",
        "    val_history = []\n",
        "    for epoch in range(num_epochs):\n",
        "        model.train() # Enter train mode\n",
        "        scheduler.step()\n",
        "        loss_accum = 0\n",
        "        correct_samples = 0\n",
        "        total_samples = 0\n",
        "        for i_step, (x, y) in enumerate(train_loader):\n",
        "          \n",
        "            x_gpu = x.to(device)\n",
        "            y_gpu = y.to(device)\n",
        "            prediction = model(x_gpu)    \n",
        "            loss_value = loss(prediction, y_gpu)\n",
        "            optimizer.zero_grad()\n",
        "            loss_value.backward()\n",
        "            optimizer.step()\n",
        "            \n",
        "            _, indices = torch.max(prediction, 1)\n",
        "            correct_samples += torch.sum(indices == y_gpu)\n",
        "            total_samples += y.shape[0]\n",
        "            \n",
        "            loss_accum += loss_value\n",
        "\n",
        "        ave_loss = loss_accum / i_step\n",
        "        train_accuracy = float(correct_samples) / total_samples\n",
        "        val_accuracy = compute_accuracy(model, val_loader)\n",
        "        \n",
        "        loss_history.append(float(ave_loss))\n",
        "        train_history.append(train_accuracy)\n",
        "        val_history.append(val_accuracy)\n",
        "        \n",
        "        print(\"Average loss: %f, Train accuracy: %f, Val accuracy: %f\" % (ave_loss, train_accuracy, val_accuracy))\n",
        "        \n",
        "    return loss_history, train_history, val_history"
      ],
      "execution_count": 0,
      "outputs": []
    },
    {
      "cell_type": "code",
      "metadata": {
        "colab_type": "code",
        "id": "i6mhfdQ9K-N3",
        "colab": {
          "base_uri": "https://localhost:8080/",
          "height": 1887
        },
        "outputId": "2d20b79c-7cb0-47bc-b5c9-fc8d28729eaa"
      },
      "source": [
        "# The key hyperparameters we're going to tune are learning speed, annealing rate and regularization\n",
        "# We also encourage you to try different optimizers as well\n",
        "\n",
        "Hyperparams = namedtuple(\"Hyperparams\", ['learning_rate', 'anneal_epochs', 'reg'])\n",
        "RunResult = namedtuple(\"RunResult\", ['model', 'train_history', 'val_history', 'final_val_accuracy'])\n",
        "\n",
        "learning_rates = [1e0, 1e-1, 1e-2, 1e-3, 1e-4]\n",
        "anneal_coeff = 0.2\n",
        "anneal_epochs = [1, 5, 10, 15, 20, 50]\n",
        "reg = [1e-3, 1e-4, 1e-5, 1e-7]\n",
        "\n",
        "batch_size = 64\n",
        "epoch_num = 10\n",
        "\n",
        "# Record all the runs here\n",
        "# Key should be Hyperparams and values should be RunResult\n",
        "run_record = {} \n",
        "\n",
        "# Use grid search or random search and record all runs in run_record dictionnary \n",
        "# Important: perform search in logarithmic space!\n",
        "\n",
        "# TODO: Your code here!\n",
        "\n",
        "import random\n",
        "params_grid = [learning_rates, anneal_epochs, reg]\n",
        "\n",
        "n_results = 10\n",
        "for i in range(n_results):\n",
        "    params = [random.sample(param, 1)[0] for param in params_grid]\n",
        "    print(f\"lr={params[0]}, anneal_epochs={params[1]}, reg={params[2]}\")\n",
        "    \n",
        "    optimizer = optim.SGD(lenet_model.parameters(), lr=params[0], weight_decay=params[2])\n",
        "    _, train_history, val_history = train_model(lenet_model, train_aug_loader, val_loader, \n",
        "                                                loss, optimizer, epoch_num, params[1])\n",
        "    run_record[Hyperparams(*params)] = RunResult(lenet_model, train_history, \n",
        "                                                 val_history, val_history[-1])\n"
      ],
      "execution_count": 20,
      "outputs": [
        {
          "output_type": "stream",
          "text": [
            "lr=0.01, anneal_epochs=1, reg=1e-05\n",
            "Average loss: 0.405816, Train accuracy: 0.875798, Val accuracy: 0.874002\n",
            "Average loss: 0.390978, Train accuracy: 0.883340, Val accuracy: 0.878370\n",
            "Average loss: 0.388964, Train accuracy: 0.882879, Val accuracy: 0.878848\n",
            "Average loss: 0.385126, Train accuracy: 0.883357, Val accuracy: 0.879257\n",
            "Average loss: 0.381692, Train accuracy: 0.884961, Val accuracy: 0.879326\n",
            "Average loss: 0.383594, Train accuracy: 0.884636, Val accuracy: 0.878848\n",
            "Average loss: 0.385481, Train accuracy: 0.884483, Val accuracy: 0.879189\n",
            "Average loss: 0.381035, Train accuracy: 0.885490, Val accuracy: 0.879189\n",
            "Average loss: 0.380171, Train accuracy: 0.885131, Val accuracy: 0.879189\n",
            "Average loss: 0.379286, Train accuracy: 0.884790, Val accuracy: 0.879257\n",
            "lr=0.1, anneal_epochs=20, reg=0.0001\n",
            "Average loss: 0.472334, Train accuracy: 0.855629, Val accuracy: 0.857757\n",
            "Average loss: 0.465195, Train accuracy: 0.857540, Val accuracy: 0.858644\n",
            "Average loss: 0.460436, Train accuracy: 0.859298, Val accuracy: 0.859941\n",
            "Average loss: 0.458177, Train accuracy: 0.861704, Val accuracy: 0.850317\n",
            "Average loss: 0.448453, Train accuracy: 0.862540, Val accuracy: 0.869770\n",
            "Average loss: 0.440065, Train accuracy: 0.866140, Val accuracy: 0.861238\n",
            "Average loss: 0.438399, Train accuracy: 0.865645, Val accuracy: 0.835711\n",
            "Average loss: 0.436476, Train accuracy: 0.866498, Val accuracy: 0.865333\n",
            "Average loss: 0.432359, Train accuracy: 0.868682, Val accuracy: 0.862945\n",
            "Average loss: 0.425808, Train accuracy: 0.870201, Val accuracy: 0.855300\n",
            "lr=1.0, anneal_epochs=10, reg=1e-07\n",
            "Average loss: nan, Train accuracy: 0.069020, Val accuracy: 0.068118\n",
            "Average loss: nan, Train accuracy: 0.067399, Val accuracy: 0.068118\n",
            "Average loss: nan, Train accuracy: 0.067399, Val accuracy: 0.068118\n",
            "Average loss: nan, Train accuracy: 0.067399, Val accuracy: 0.068118\n",
            "Average loss: nan, Train accuracy: 0.067399, Val accuracy: 0.068118\n",
            "Average loss: nan, Train accuracy: 0.067399, Val accuracy: 0.068118\n",
            "Average loss: nan, Train accuracy: 0.067399, Val accuracy: 0.068118\n",
            "Average loss: nan, Train accuracy: 0.067399, Val accuracy: 0.068118\n",
            "Average loss: nan, Train accuracy: 0.067399, Val accuracy: 0.068118\n",
            "Average loss: nan, Train accuracy: 0.067399, Val accuracy: 0.068118\n",
            "lr=0.01, anneal_epochs=50, reg=1e-05\n",
            "Average loss: nan, Train accuracy: 0.067399, Val accuracy: 0.068118\n",
            "Average loss: nan, Train accuracy: 0.067399, Val accuracy: 0.068118\n",
            "Average loss: nan, Train accuracy: 0.067399, Val accuracy: 0.068118\n",
            "Average loss: nan, Train accuracy: 0.067399, Val accuracy: 0.068118\n",
            "Average loss: nan, Train accuracy: 0.067399, Val accuracy: 0.068118\n",
            "Average loss: nan, Train accuracy: 0.067399, Val accuracy: 0.068118\n",
            "Average loss: nan, Train accuracy: 0.067399, Val accuracy: 0.068118\n",
            "Average loss: nan, Train accuracy: 0.067399, Val accuracy: 0.068118\n",
            "Average loss: nan, Train accuracy: 0.067399, Val accuracy: 0.068118\n",
            "Average loss: nan, Train accuracy: 0.067399, Val accuracy: 0.068118\n",
            "lr=0.01, anneal_epochs=20, reg=1e-07\n",
            "Average loss: nan, Train accuracy: 0.067399, Val accuracy: 0.068118\n",
            "Average loss: nan, Train accuracy: 0.067399, Val accuracy: 0.068118\n",
            "Average loss: nan, Train accuracy: 0.067399, Val accuracy: 0.068118\n",
            "Average loss: nan, Train accuracy: 0.067399, Val accuracy: 0.068118\n",
            "Average loss: nan, Train accuracy: 0.067399, Val accuracy: 0.068118\n",
            "Average loss: nan, Train accuracy: 0.067399, Val accuracy: 0.068118\n",
            "Average loss: nan, Train accuracy: 0.067399, Val accuracy: 0.068118\n",
            "Average loss: nan, Train accuracy: 0.067399, Val accuracy: 0.068118\n",
            "Average loss: nan, Train accuracy: 0.067399, Val accuracy: 0.068118\n",
            "Average loss: nan, Train accuracy: 0.067399, Val accuracy: 0.068118\n",
            "lr=0.0001, anneal_epochs=50, reg=1e-07\n",
            "Average loss: nan, Train accuracy: 0.067399, Val accuracy: 0.068118\n",
            "Average loss: nan, Train accuracy: 0.067399, Val accuracy: 0.068118\n",
            "Average loss: nan, Train accuracy: 0.067399, Val accuracy: 0.068118\n",
            "Average loss: nan, Train accuracy: 0.067399, Val accuracy: 0.068118\n",
            "Average loss: nan, Train accuracy: 0.067399, Val accuracy: 0.068118\n",
            "Average loss: nan, Train accuracy: 0.067399, Val accuracy: 0.068118\n",
            "Average loss: nan, Train accuracy: 0.067399, Val accuracy: 0.068118\n",
            "Average loss: nan, Train accuracy: 0.067399, Val accuracy: 0.068118\n",
            "Average loss: nan, Train accuracy: 0.067399, Val accuracy: 0.068118\n",
            "Average loss: nan, Train accuracy: 0.067399, Val accuracy: 0.068118\n",
            "lr=0.01, anneal_epochs=5, reg=1e-07\n",
            "Average loss: nan, Train accuracy: 0.067399, Val accuracy: 0.068118\n",
            "Average loss: nan, Train accuracy: 0.067399, Val accuracy: 0.068118\n",
            "Average loss: nan, Train accuracy: 0.067399, Val accuracy: 0.068118\n",
            "Average loss: nan, Train accuracy: 0.067399, Val accuracy: 0.068118\n",
            "Average loss: nan, Train accuracy: 0.067399, Val accuracy: 0.068118\n",
            "Average loss: nan, Train accuracy: 0.067399, Val accuracy: 0.068118\n",
            "Average loss: nan, Train accuracy: 0.067399, Val accuracy: 0.068118\n",
            "Average loss: nan, Train accuracy: 0.067399, Val accuracy: 0.068118\n",
            "Average loss: nan, Train accuracy: 0.067399, Val accuracy: 0.068118\n",
            "Average loss: nan, Train accuracy: 0.067399, Val accuracy: 0.068118\n",
            "lr=0.001, anneal_epochs=15, reg=1e-05\n",
            "Average loss: nan, Train accuracy: 0.067399, Val accuracy: 0.068118\n",
            "Average loss: nan, Train accuracy: 0.067399, Val accuracy: 0.068118\n",
            "Average loss: nan, Train accuracy: 0.067399, Val accuracy: 0.068118\n",
            "Average loss: nan, Train accuracy: 0.067399, Val accuracy: 0.068118\n",
            "Average loss: nan, Train accuracy: 0.067399, Val accuracy: 0.068118\n",
            "Average loss: nan, Train accuracy: 0.067399, Val accuracy: 0.068118\n",
            "Average loss: nan, Train accuracy: 0.067399, Val accuracy: 0.068118\n",
            "Average loss: nan, Train accuracy: 0.067399, Val accuracy: 0.068118\n",
            "Average loss: nan, Train accuracy: 0.067399, Val accuracy: 0.068118\n",
            "Average loss: nan, Train accuracy: 0.067399, Val accuracy: 0.068118\n",
            "lr=0.001, anneal_epochs=5, reg=1e-05\n",
            "Average loss: nan, Train accuracy: 0.067399, Val accuracy: 0.068118\n",
            "Average loss: nan, Train accuracy: 0.067399, Val accuracy: 0.068118\n",
            "Average loss: nan, Train accuracy: 0.067399, Val accuracy: 0.068118\n",
            "Average loss: nan, Train accuracy: 0.067399, Val accuracy: 0.068118\n",
            "Average loss: nan, Train accuracy: 0.067399, Val accuracy: 0.068118\n",
            "Average loss: nan, Train accuracy: 0.067399, Val accuracy: 0.068118\n",
            "Average loss: nan, Train accuracy: 0.067399, Val accuracy: 0.068118\n",
            "Average loss: nan, Train accuracy: 0.067399, Val accuracy: 0.068118\n",
            "Average loss: nan, Train accuracy: 0.067399, Val accuracy: 0.068118\n",
            "Average loss: nan, Train accuracy: 0.067399, Val accuracy: 0.068118\n",
            "lr=0.1, anneal_epochs=15, reg=0.0001\n",
            "Average loss: nan, Train accuracy: 0.067399, Val accuracy: 0.068118\n",
            "Average loss: nan, Train accuracy: 0.067399, Val accuracy: 0.068118\n",
            "Average loss: nan, Train accuracy: 0.067399, Val accuracy: 0.068118\n",
            "Average loss: nan, Train accuracy: 0.067399, Val accuracy: 0.068118\n",
            "Average loss: nan, Train accuracy: 0.067399, Val accuracy: 0.068118\n",
            "Average loss: nan, Train accuracy: 0.067399, Val accuracy: 0.068118\n",
            "Average loss: nan, Train accuracy: 0.067399, Val accuracy: 0.068118\n",
            "Average loss: nan, Train accuracy: 0.067399, Val accuracy: 0.068118\n",
            "Average loss: nan, Train accuracy: 0.067399, Val accuracy: 0.068118\n",
            "Average loss: nan, Train accuracy: 0.067399, Val accuracy: 0.068118\n"
          ],
          "name": "stdout"
        }
      ]
    },
    {
      "cell_type": "code",
      "metadata": {
        "colab_type": "code",
        "id": "Y6xExdw8JB1l",
        "colab": {
          "base_uri": "https://localhost:8080/",
          "height": 54
        },
        "outputId": "d5c33825-641b-4c12-ecc1-dd22b176909f"
      },
      "source": [
        "best_val_accuracy = None\n",
        "best_hyperparams = None\n",
        "best_run = None\n",
        "\n",
        "for hyperparams, run_result in run_record.items():\n",
        "    if best_val_accuracy is None or best_val_accuracy < run_result.final_val_accuracy:\n",
        "        best_val_accuracy = run_result.final_val_accuracy\n",
        "        best_hyperparams = hyperparams\n",
        "        best_run = run_result\n",
        "        \n",
        "print(\"Best validation accuracy: %4.2f, best hyperparams: %s\" % (best_val_accuracy, best_hyperparams))\n",
        "        "
      ],
      "execution_count": 21,
      "outputs": [
        {
          "output_type": "stream",
          "text": [
            "Best validation accuracy: 0.88, best hyperparams: Hyperparams(learning_rate=0.01, anneal_epochs=1, reg=1e-05)\n"
          ],
          "name": "stdout"
        }
      ]
    },
    {
      "cell_type": "markdown",
      "metadata": {
        "colab_type": "text",
        "id": "LOmsR0uVgtgf"
      },
      "source": [
        "# Свободное упражнение - догоним и перегоним LeNet!\n",
        "\n",
        "Попробуйте найти архитектуру и настройки тренировки, чтобы выступить лучше наших бейзлайнов.\n",
        "\n",
        "Что можно и нужно попробовать:\n",
        "- BatchNormalization (для convolution layers он в PyTorch называется [batchnorm2d](https://pytorch.org/docs/stable/nn.html#batchnorm2d))\n",
        "- Изменить количество слоев и их толщину\n",
        "- Изменять количество эпох тренировки\n",
        "- Попробовать и другие агментации"
      ]
    },
    {
      "cell_type": "code",
      "metadata": {
        "colab_type": "code",
        "id": "tSVhD747icoc",
        "colab": {
          "base_uri": "https://localhost:8080/",
          "height": 357
        },
        "outputId": "07c70a8c-2b4d-4f1e-e931-502a454e4443"
      },
      "source": [
        "best_model = nn.Sequential(\n",
        "            nn.Conv2d(3, 32, 3, padding=1),\n",
        "            nn.BatchNorm2d(32),\n",
        "            nn.ReLU(inplace=True),\n",
        "            nn.Dropout(0.25),\n",
        "            nn.Conv2d(32, 64, 3, stride=2, padding=1),\n",
        "            nn.BatchNorm2d(64),\n",
        "            nn.ReLU(inplace=True),\n",
        "            nn.Dropout(0.25),\n",
        "            nn.Conv2d(64, 128, 5, stride=2),\n",
        "            nn.BatchNorm2d(128),\n",
        "            nn.ReLU(inplace=True),\n",
        "            nn.Dropout(0.25),\n",
        "            nn.Conv2d(128, 128, 5, stride=2, padding=2),\n",
        "            nn.BatchNorm2d(128),\n",
        "            nn.ReLU(inplace=True),\n",
        "            nn.Dropout(0.25),\n",
        "            nn.Conv2d(128, 128, 5, stride=2, padding=2),\n",
        "            nn.BatchNorm2d(128),\n",
        "            nn.ReLU(inplace=True),\n",
        "            Flattener(),\n",
        "            nn.Linear(512, 64),\n",
        "            nn.BatchNorm1d(64),\n",
        "            nn.ReLU(inplace=True),\n",
        "            nn.Dropout(0.25),\n",
        "            nn.Linear(64, 10)\n",
        "          )\n",
        "\n",
        "for module in best_model.parameters():\n",
        "    if isinstance(module, (nn.Conv2d, nn.Linear)):\n",
        "        nn.init.xavier_uniform_(module.weight, gain=nn.init.calculate_gain('relu'))\n",
        "\n",
        "    \n",
        "best_model.type(torch.cuda.FloatTensor)\n",
        "best_model.to(device)\n",
        "\n",
        "loss = nn.CrossEntropyLoss().type(torch.cuda.FloatTensor)\n",
        "optimizer = optim.Adam(best_model.parameters(), lr=1e-3, weight_decay=1e-05)\n",
        "loss_history, train_history, val_history = train_model(best_model, train_aug_loader, val_loader, loss, optimizer, 20, 1)"
      ],
      "execution_count": 24,
      "outputs": [
        {
          "output_type": "stream",
          "text": [
            "Average loss: 1.533102, Train accuracy: 0.486298, Val accuracy: 0.813596\n",
            "Average loss: 0.699761, Train accuracy: 0.783555, Val accuracy: 0.861443\n",
            "Average loss: 0.585697, Train accuracy: 0.819353, Val accuracy: 0.879257\n",
            "Average loss: 0.533820, Train accuracy: 0.835751, Val accuracy: 0.885946\n",
            "Average loss: 0.513991, Train accuracy: 0.841586, Val accuracy: 0.889154\n",
            "Average loss: 0.501866, Train accuracy: 0.846893, Val accuracy: 0.890110\n",
            "Average loss: 0.499319, Train accuracy: 0.846722, Val accuracy: 0.891134\n",
            "Average loss: 0.493661, Train accuracy: 0.847900, Val accuracy: 0.891816\n",
            "Average loss: 0.490646, Train accuracy: 0.849964, Val accuracy: 0.890792\n",
            "Average loss: 0.494059, Train accuracy: 0.849674, Val accuracy: 0.891407\n",
            "Average loss: 0.490674, Train accuracy: 0.849640, Val accuracy: 0.891748\n",
            "Average loss: 0.491212, Train accuracy: 0.849998, Val accuracy: 0.890929\n",
            "Average loss: 0.494541, Train accuracy: 0.849435, Val accuracy: 0.890861\n",
            "Average loss: 0.491526, Train accuracy: 0.849896, Val accuracy: 0.890861\n",
            "Average loss: 0.489857, Train accuracy: 0.850937, Val accuracy: 0.891338\n",
            "Average loss: 0.492870, Train accuracy: 0.849486, Val accuracy: 0.890315\n",
            "Average loss: 0.492862, Train accuracy: 0.848667, Val accuracy: 0.891543\n",
            "Average loss: 0.492694, Train accuracy: 0.849009, Val accuracy: 0.891680\n",
            "Average loss: 0.490622, Train accuracy: 0.850578, Val accuracy: 0.890519\n",
            "Average loss: 0.492533, Train accuracy: 0.849708, Val accuracy: 0.890519\n"
          ],
          "name": "stdout"
        }
      ]
    },
    {
      "cell_type": "markdown",
      "metadata": {
        "colab_type": "text",
        "id": "ubeKgBcnhx7N"
      },
      "source": [
        "# Финальный аккорд - проверим лучшую модель на test set\n",
        "\n",
        "В качестве разнообразия - напишите код для прогона модели на test set вы.\n",
        "\n",
        "В результате вы должны натренировать модель, которая покажет более **90%** точности на test set.  \n",
        "Как водится, лучший результат в группе получит дополнительные баллы!"
      ]
    },
    {
      "cell_type": "code",
      "metadata": {
        "colab_type": "code",
        "id": "EIqM1kdeh-hd",
        "colab": {
          "base_uri": "https://localhost:8080/",
          "height": 34
        },
        "outputId": "09b44f1b-db39-4d25-a59f-ba941ea100ff"
      },
      "source": [
        "# TODO Write the code to compute accuracy on test set\n",
        "test_loader = torch.utils.data.DataLoader(data_test, batch_size=batch_size)\n",
        "final_test_accuracy = compute_accuracy(best_model, test_loader)\n",
        "print(\"Final test accuracy - \", final_test_accuracy)"
      ],
      "execution_count": 25,
      "outputs": [
        {
          "output_type": "stream",
          "text": [
            "Final test accuracy -  0.8948217578365089\n"
          ],
          "name": "stdout"
        }
      ]
    },
    {
      "cell_type": "code",
      "metadata": {
        "colab_type": "code",
        "id": "BfH6qip6kVX_",
        "colab": {}
      },
      "source": [
        ""
      ],
      "execution_count": 0,
      "outputs": []
    }
  ]
}